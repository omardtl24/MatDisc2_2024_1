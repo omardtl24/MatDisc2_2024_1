{
 "cells": [
  {
   "cell_type": "markdown",
   "metadata": {},
   "source": [
    "# Combinatorics"
   ]
  },
  {
   "cell_type": "markdown",
   "metadata": {},
   "source": [
    "How many integer numbers from 1 to  1000 are divisible by 2 or by 3?"
   ]
  },
  {
   "cell_type": "code",
   "execution_count": 2,
   "metadata": {},
   "outputs": [
    {
     "name": "stdout",
     "output_type": "stream",
     "text": [
      "There are 667 numbers divisible by 2 or 3 between 1 and 1000\n"
     ]
    }
   ],
   "source": [
    "div2 = {i for i in range(1,1001) if i%2==0}\n",
    "div3 = {i for i in range(1,1001) if i%3==0}\n",
    "\n",
    "joinset = div2 | div3\n",
    "\n",
    "print(f'There are {len(joinset)} numbers divisible by 2 or 3 between 1 and 1000')"
   ]
  },
  {
   "cell_type": "markdown",
   "metadata": {},
   "source": [
    "How many integer numbers from 1 to  1000 are not divisible neither by 2, nor by 3?    "
   ]
  },
  {
   "cell_type": "code",
   "execution_count": 3,
   "metadata": {},
   "outputs": [
    {
     "name": "stdout",
     "output_type": "stream",
     "text": [
      "There are 333 numbers that are not divisible neither by 2 nor by 3 between 1 and 1000\n"
     ]
    }
   ],
   "source": [
    "bigset = {i for i in range(1,1001)}\n",
    "\n",
    "diff_set = bigset - joinset\n",
    "\n",
    "print(f'There are {len(diff_set)} numbers that are not divisible neither by 2 nor by 3 between 1 and 1000')"
   ]
  },
  {
   "cell_type": "markdown",
   "metadata": {},
   "source": [
    "What is the number of 5-symbol passwords where each symbol is one of the 26 lower case Latin letters?"
   ]
  },
  {
   "cell_type": "code",
   "execution_count": 4,
   "metadata": {},
   "outputs": [
    {
     "name": "stdout",
     "output_type": "stream",
     "text": [
      "There is a total of 11881376 of 5-symbol Latin letters password\n"
     ]
    }
   ],
   "source": [
    "print(f'There is a total of {26**5} of 5-symbol Latin letters password')"
   ]
  },
  {
   "cell_type": "markdown",
   "metadata": {},
   "source": [
    "Linguists are studying texts in some ancient language with 25 letters. They want to compute how often different 3-letter combinations occur in texts in this language. For this they first need to list all 3-letter combinations. How many combinations will they have?"
   ]
  },
  {
   "cell_type": "code",
   "execution_count": 5,
   "metadata": {},
   "outputs": [
    {
     "name": "stdout",
     "output_type": "stream",
     "text": [
      "There is a total of 15625 of 3-symbol combinations from a 25 letters language\n"
     ]
    }
   ],
   "source": [
    "print(f'There is a total of {25*25*25} of 3-symbol combinations from a 25 letters language')"
   ]
  },
  {
   "cell_type": "markdown",
   "metadata": {},
   "source": [
    "Suppose a license plate format contains a block of two digits followed by a block of two letters (26 choices) followed by a block of two digits. What is the number of different license plates?"
   ]
  },
  {
   "cell_type": "code",
   "execution_count": 6,
   "metadata": {},
   "outputs": [
    {
     "name": "stdout",
     "output_type": "stream",
     "text": [
      "There is a total of 6760000 different license plates\n"
     ]
    }
   ],
   "source": [
    "print(f'There is a total of {10*10*26*26*10*10} different license plates')"
   ]
  },
  {
   "cell_type": "markdown",
   "metadata": {},
   "source": [
    "A board of 15 people has to pick a chairman of the board, a vice-chairman and a secretary among themselves. All three should be different persons. How many ways do they have to do it?"
   ]
  },
  {
   "cell_type": "code",
   "execution_count": 7,
   "metadata": {},
   "outputs": [
    {
     "name": "stdout",
     "output_type": "stream",
     "text": [
      "There are a total of 2730 different ways how the 3 people can be chosen\n"
     ]
    }
   ],
   "source": [
    "print(f'There are a total of {15*14*13} different ways how the 3 people can be chosen')"
   ]
  },
  {
   "cell_type": "markdown",
   "metadata": {},
   "source": [
    "There are five different tables in the class and five students. Each table can be occupied by only one student. Their studying year consists of 200 days. As a small prank on their teacher students would like to sit in a new way every day, so there are no two days during their studying year such that all students are occupying the same tables. They would like to see whether this is possible. How many ways are there for them to sit in the class?"
   ]
  },
  {
   "cell_type": "code",
   "execution_count": 8,
   "metadata": {},
   "outputs": [
    {
     "name": "stdout",
     "output_type": "stream",
     "text": [
      "There are 120 different ways how students can sit in the class\n"
     ]
    }
   ],
   "source": [
    "def factorial(n):\n",
    "    return n*factorial(n-1) if n>0 else 1\n",
    "\n",
    "print(f'There are {factorial(5)} different ways how students can sit in the class')"
   ]
  },
  {
   "cell_type": "markdown",
   "metadata": {},
   "source": [
    "How many integer numbers between 0 and 9999 are there that have exactly one digit 1 and exactly one digit 3?"
   ]
  },
  {
   "cell_type": "code",
   "execution_count": 9,
   "metadata": {},
   "outputs": [
    {
     "name": "stdout",
     "output_type": "stream",
     "text": [
      "There are 768 integers between 0 and 9999 that have exactly one digit 1 and exactly one digit 3\n"
     ]
    }
   ],
   "source": [
    "#For the different positions for number 1 and 3\n",
    "perm  = factorial(4)//factorial(4-2)\n",
    "#For the different selection of the other digits\n",
    "n = perm * (1*1*8*8)\n",
    "print(f'There are {n} integers between 0 and 9999 that have exactly one digit 1 and exactly one digit 3')"
   ]
  },
  {
   "cell_type": "markdown",
   "metadata": {},
   "source": [
    "In how many ways can one select a team of five students out of ten students?"
   ]
  },
  {
   "cell_type": "code",
   "execution_count": 10,
   "metadata": {},
   "outputs": [
    {
     "name": "stdout",
     "output_type": "stream",
     "text": [
      "A team of five students out of ten students can be chosen in 252 different ways\n"
     ]
    }
   ],
   "source": [
    "def combination(n,k):\n",
    "    return factorial(n)//(factorial(n-k)*factorial(k))\n",
    "\n",
    "\n",
    "print(f'A team of five students out of ten students can be chosen in {combination(10,5)} different ways')"
   ]
  },
  {
   "cell_type": "markdown",
   "metadata": {},
   "source": [
    "In how many ways can one partition ten students into two teams of size five?"
   ]
  },
  {
   "cell_type": "code",
   "execution_count": 11,
   "metadata": {},
   "outputs": [
    {
     "name": "stdout",
     "output_type": "stream",
     "text": [
      "We can partition ten students into two teams of size five in 126 different ways\n"
     ]
    }
   ],
   "source": [
    "print(f'We can partition ten students into two teams of size five in {combination(10,5)//2} different ways')"
   ]
  },
  {
   "cell_type": "markdown",
   "metadata": {},
   "source": [
    "What will the following program print?"
   ]
  },
  {
   "cell_type": "code",
   "execution_count": 12,
   "metadata": {},
   "outputs": [
    {
     "name": "stdout",
     "output_type": "stream",
     "text": [
      "120\n",
      "Time used: 0.0 seconds\n"
     ]
    }
   ],
   "source": [
    "import time\n",
    "n = 10\n",
    "count = 0\n",
    "start = time.time()\n",
    "for i in range(n):\n",
    "    for j in range(n):\n",
    "        for k in range(n):\n",
    "            if i < j and j < k:\n",
    "                count += 1\n",
    "end = time.time()\n",
    "print(count)\n",
    "print(f'Time used: {end-start} seconds' )"
   ]
  },
  {
   "cell_type": "markdown",
   "metadata": {},
   "source": [
    "What will the following program print? Note that n is large in this case, making this code too slow. Try to come up with the answer without running the code."
   ]
  },
  {
   "cell_type": "code",
   "execution_count": 13,
   "metadata": {},
   "outputs": [
    {
     "name": "stdout",
     "output_type": "stream",
     "text": [
      "166167000\n",
      "Time used: 59.20818257331848 seconds\n"
     ]
    }
   ],
   "source": [
    "import time\n",
    "n = 1000\n",
    "count = 0\n",
    "start = time.time()\n",
    "for i in range(n):\n",
    "    for j in range(n):\n",
    "        for k in range(n):\n",
    "            if i < j and j < k:\n",
    "                count += 1\n",
    "end = time.time()\n",
    "print(count)\n",
    "print(f'Time used: {end-start} seconds' )"
   ]
  },
  {
   "cell_type": "code",
   "execution_count": 14,
   "metadata": {},
   "outputs": [],
   "source": [
    "C = {}\n",
    "def c(n,k):\n",
    "    global C\n",
    "    if (n,k) in C: return C[(n,k)]\n",
    "    if k==n or k==0:\n",
    "        C[(n,k)] = 1\n",
    "        return C[(n,k)]\n",
    "    C[(n,k)] = c(n-1,k-1) + c(n-1,k)\n",
    "    return C[(n,k)]"
   ]
  },
  {
   "cell_type": "markdown",
   "metadata": {},
   "source": [
    "Find the coefficients of the expansion of $(3a-2b)^3$"
   ]
  },
  {
   "cell_type": "code",
   "execution_count": 15,
   "metadata": {},
   "outputs": [
    {
     "name": "stdout",
     "output_type": "stream",
     "text": [
      "[27, -54, 36, -8]\n"
     ]
    }
   ],
   "source": [
    "def coef(a=1,b=1,g=5):\n",
    "    return [c(g,k)*(a**(g-k))*(b**(k)) for k in range(g+1)]\n",
    "\n",
    "print(coef(a=3,b=-2,g=3))"
   ]
  },
  {
   "cell_type": "markdown",
   "metadata": {},
   "source": [
    "Find the coefficients of the expansion of $(3a-2b)^7$"
   ]
  },
  {
   "cell_type": "code",
   "execution_count": 16,
   "metadata": {},
   "outputs": [
    {
     "name": "stdout",
     "output_type": "stream",
     "text": [
      "[2187, -10206, 20412, -22680, 15120, -6048, 1344, -128]\n"
     ]
    }
   ],
   "source": [
    "print(coef(a=3,b=-2,g=7))"
   ]
  },
  {
   "cell_type": "markdown",
   "metadata": {},
   "source": [
    "What is the number of 6-card hands with three hearts and three spades?"
   ]
  },
  {
   "cell_type": "code",
   "execution_count": 17,
   "metadata": {},
   "outputs": [
    {
     "name": "stdout",
     "output_type": "stream",
     "text": [
      "There are 81796 6-card hands with three hearts and three spades\n"
     ]
    }
   ],
   "source": [
    "hearts = c(13,3)\n",
    "spades = c(13,3)\n",
    "\n",
    "print(f'There are {hearts*spades} 6-card hands with three hearts and three spades')"
   ]
  },
  {
   "cell_type": "markdown",
   "metadata": {},
   "source": [
    "What is the number of bit-strings (that is, strings consisting of 0's and 1's) of length 6 where the number of 0's is equal to the number of 1's?"
   ]
  },
  {
   "cell_type": "code",
   "execution_count": 18,
   "metadata": {},
   "outputs": [
    {
     "name": "stdout",
     "output_type": "stream",
     "text": [
      "There are 20 number of bit-strings of length 6 where the number of 0's is equal to the number of 1's\n"
     ]
    }
   ],
   "source": [
    "print(f'There are {c(6,3)} number of bit-strings of length 6 where the number of 0\\'s is equal to the number of 1\\'s')"
   ]
  },
  {
   "cell_type": "markdown",
   "metadata": {},
   "source": [
    "What is the number of sequences of six digits where the number of even digits is equal to the number of odd digits?"
   ]
  },
  {
   "cell_type": "code",
   "execution_count": 19,
   "metadata": {},
   "outputs": [
    {
     "name": "stdout",
     "output_type": "stream",
     "text": [
      "There are 312500 number of sequences of six digits where the number of even digits is equal to the number of odd digits\n"
     ]
    }
   ],
   "source": [
    "perm = c(6,3)\n",
    "\n",
    "print(f'There are {perm*(5**3)*(5**3)} number of sequences of six digits where the number of even digits is equal to the number of odd digits')"
   ]
  },
  {
   "cell_type": "markdown",
   "metadata": {},
   "source": [
    "In how many ways one can get from the bottom left cell to the top right cell of a $13×13$ grid, if each move is either two cells up or three cells to the right?"
   ]
  },
  {
   "cell_type": "code",
   "execution_count": 20,
   "metadata": {},
   "outputs": [
    {
     "name": "stdout",
     "output_type": "stream",
     "text": [
      "Given those constraints, there are 210 different ways to get to the top right cell\n"
     ]
    }
   ],
   "source": [
    "memo = {}\n",
    "\n",
    "def positions(r,c):\n",
    "    if (r,c) in memo: return memo[(r,c)]\n",
    "    if r==1 or c==1:\n",
    "        memo[(r,c)] = 1\n",
    "        return memo[(r,c)]\n",
    "    memo[(r,c)] = positions(r-3,c)+positions(r,c-2)\n",
    "    return memo[(r,c)]\n",
    "\n",
    "print(f'Given those constraints, there are {positions(13,13)} different ways to get to the top right cell')\n",
    "    "
   ]
  },
  {
   "cell_type": "markdown",
   "metadata": {},
   "source": [
    "We have an unlimited supply of tomatoes, bell peppers and lettuce. We want to make a salad\n",
    "out of 4 units among these three ingredients (we do not have to use all\n",
    "ingredients). The order in which we use the ingredients does not matter. How many different salads we can make? \n",
    "\n",
    "We do not have the formula to answer this question yet, so try to list all the salads first or create a program that will do that for you. Then you can count the number of salads by hand (note the answer to the problem should be the number)."
   ]
  },
  {
   "cell_type": "code",
   "execution_count": 21,
   "metadata": {},
   "outputs": [
    {
     "name": "stdout",
     "output_type": "stream",
     "text": [
      "Combination 1 is BBBB\n",
      "Combination 2 is BBBL\n",
      "Combination 3 is BBBT\n",
      "Combination 4 is BBLL\n",
      "Combination 5 is BBLT\n",
      "Combination 6 is BBTT\n",
      "Combination 7 is BLLL\n",
      "Combination 8 is BLLT\n",
      "Combination 9 is BLTT\n",
      "Combination 10 is BTTT\n",
      "Combination 11 is LLLL\n",
      "Combination 12 is LLLT\n",
      "Combination 13 is LLTT\n",
      "Combination 14 is LTTT\n",
      "Combination 15 is TTTT\n"
     ]
    }
   ],
   "source": [
    "from itertools import combinations_with_replacement\n",
    "#We define bell pepper as B, lettuce as L and tomatoes as T\n",
    "initial = 'BLT'\n",
    "for i, comb in enumerate(combinations_with_replacement(initial,4)):\n",
    "    print(f'Combination {i+1} is {\"\".join(comb)}')"
   ]
  },
  {
   "cell_type": "markdown",
   "metadata": {},
   "source": [
    "Twenty people are voting for one of 5 candidates. They have secret ballot, each voter votes for one of 5 candidates. The result of an election is the number of votes for each of the candidate. How many possible results can this vote have (the result of the vote is determined by the number of votes for each candidate)?"
   ]
  },
  {
   "cell_type": "code",
   "execution_count": 22,
   "metadata": {},
   "outputs": [
    {
     "name": "stdout",
     "output_type": "stream",
     "text": [
      "There are 10626 possible results for the election\n"
     ]
    }
   ],
   "source": [
    "candidates = '12345'\n",
    "people = 20\n",
    "\n",
    "analytical = c(24,4)\n",
    "comp = len(list(combinations_with_replacement(candidates,people)))\n",
    "\n",
    "assert analytical==comp\n",
    "\n",
    "print(f'There are {analytical} possible results for the election')"
   ]
  },
  {
   "cell_type": "markdown",
   "metadata": {},
   "source": [
    "We have 9 identical candies and we want to distribute them between 3 different sections of our bag. It does not matter which candies go to which section. How many ways do we have to do it?"
   ]
  },
  {
   "cell_type": "code",
   "execution_count": 23,
   "metadata": {},
   "outputs": [
    {
     "name": "stdout",
     "output_type": "stream",
     "text": [
      "There are 55 possible results for the candies and bags distribution\n"
     ]
    }
   ],
   "source": [
    "bags = '123'\n",
    "candies = 9\n",
    "\n",
    "analytical = c(11,2)\n",
    "comp = len(list(combinations_with_replacement(bags,candies)))\n",
    "\n",
    "assert analytical==comp\n",
    "\n",
    "print(f'There are {analytical} possible results for the candies and bags distribution')"
   ]
  },
  {
   "cell_type": "markdown",
   "metadata": {},
   "source": [
    "How manynon-negative integer numbers are there below 10000 such that their sum of digits is equal to 9?"
   ]
  },
  {
   "cell_type": "code",
   "execution_count": 24,
   "metadata": {},
   "outputs": [
    {
     "name": "stdout",
     "output_type": "stream",
     "text": [
      "Value 1 is 0009\n",
      "Value 2 is 0018\n",
      "Value 3 is 0027\n",
      "Value 4 is 0036\n",
      "Value 5 is 0045\n",
      "Value 6 is 0054\n",
      "Value 7 is 0063\n",
      "Value 8 is 0072\n",
      "Value 9 is 0081\n",
      "Value 10 is 0090\n",
      "Value 11 is 0108\n",
      "Value 12 is 0117\n",
      "Value 13 is 0126\n",
      "Value 14 is 0135\n",
      "Value 15 is 0144\n",
      "Value 16 is 0153\n",
      "Value 17 is 0162\n",
      "Value 18 is 0171\n",
      "Value 19 is 0180\n",
      "Value 20 is 0207\n",
      "Value 21 is 0216\n",
      "Value 22 is 0225\n",
      "Value 23 is 0234\n",
      "Value 24 is 0243\n",
      "Value 25 is 0252\n",
      "Value 26 is 0261\n",
      "Value 27 is 0270\n",
      "Value 28 is 0306\n",
      "Value 29 is 0315\n",
      "Value 30 is 0324\n",
      "Value 31 is 0333\n",
      "Value 32 is 0342\n",
      "Value 33 is 0351\n",
      "Value 34 is 0360\n",
      "Value 35 is 0405\n",
      "Value 36 is 0414\n",
      "Value 37 is 0423\n",
      "Value 38 is 0432\n",
      "Value 39 is 0441\n",
      "Value 40 is 0450\n",
      "Value 41 is 0504\n",
      "Value 42 is 0513\n",
      "Value 43 is 0522\n",
      "Value 44 is 0531\n",
      "Value 45 is 0540\n",
      "Value 46 is 0603\n",
      "Value 47 is 0612\n",
      "Value 48 is 0621\n",
      "Value 49 is 0630\n",
      "Value 50 is 0702\n",
      "Value 51 is 0711\n",
      "Value 52 is 0720\n",
      "Value 53 is 0801\n",
      "Value 54 is 0810\n",
      "Value 55 is 0900\n",
      "Value 56 is 1008\n",
      "Value 57 is 1017\n",
      "Value 58 is 1026\n",
      "Value 59 is 1035\n",
      "Value 60 is 1044\n",
      "Value 61 is 1053\n",
      "Value 62 is 1062\n",
      "Value 63 is 1071\n",
      "Value 64 is 1080\n",
      "Value 65 is 1107\n",
      "Value 66 is 1116\n",
      "Value 67 is 1125\n",
      "Value 68 is 1134\n",
      "Value 69 is 1143\n",
      "Value 70 is 1152\n",
      "Value 71 is 1161\n",
      "Value 72 is 1170\n",
      "Value 73 is 1206\n",
      "Value 74 is 1215\n",
      "Value 75 is 1224\n",
      "Value 76 is 1233\n",
      "Value 77 is 1242\n",
      "Value 78 is 1251\n",
      "Value 79 is 1260\n",
      "Value 80 is 1305\n",
      "Value 81 is 1314\n",
      "Value 82 is 1323\n",
      "Value 83 is 1332\n",
      "Value 84 is 1341\n",
      "Value 85 is 1350\n",
      "Value 86 is 1404\n",
      "Value 87 is 1413\n",
      "Value 88 is 1422\n",
      "Value 89 is 1431\n",
      "Value 90 is 1440\n",
      "Value 91 is 1503\n",
      "Value 92 is 1512\n",
      "Value 93 is 1521\n",
      "Value 94 is 1530\n",
      "Value 95 is 1602\n",
      "Value 96 is 1611\n",
      "Value 97 is 1620\n",
      "Value 98 is 1701\n",
      "Value 99 is 1710\n",
      "Value 100 is 1800\n",
      "Value 101 is 2007\n",
      "Value 102 is 2016\n",
      "Value 103 is 2025\n",
      "Value 104 is 2034\n",
      "Value 105 is 2043\n",
      "Value 106 is 2052\n",
      "Value 107 is 2061\n",
      "Value 108 is 2070\n",
      "Value 109 is 2106\n",
      "Value 110 is 2115\n",
      "Value 111 is 2124\n",
      "Value 112 is 2133\n",
      "Value 113 is 2142\n",
      "Value 114 is 2151\n",
      "Value 115 is 2160\n",
      "Value 116 is 2205\n",
      "Value 117 is 2214\n",
      "Value 118 is 2223\n",
      "Value 119 is 2232\n",
      "Value 120 is 2241\n",
      "Value 121 is 2250\n",
      "Value 122 is 2304\n",
      "Value 123 is 2313\n",
      "Value 124 is 2322\n",
      "Value 125 is 2331\n",
      "Value 126 is 2340\n",
      "Value 127 is 2403\n",
      "Value 128 is 2412\n",
      "Value 129 is 2421\n",
      "Value 130 is 2430\n",
      "Value 131 is 2502\n",
      "Value 132 is 2511\n",
      "Value 133 is 2520\n",
      "Value 134 is 2601\n",
      "Value 135 is 2610\n",
      "Value 136 is 2700\n",
      "Value 137 is 3006\n",
      "Value 138 is 3015\n",
      "Value 139 is 3024\n",
      "Value 140 is 3033\n",
      "Value 141 is 3042\n",
      "Value 142 is 3051\n",
      "Value 143 is 3060\n",
      "Value 144 is 3105\n",
      "Value 145 is 3114\n",
      "Value 146 is 3123\n",
      "Value 147 is 3132\n",
      "Value 148 is 3141\n",
      "Value 149 is 3150\n",
      "Value 150 is 3204\n",
      "Value 151 is 3213\n",
      "Value 152 is 3222\n",
      "Value 153 is 3231\n",
      "Value 154 is 3240\n",
      "Value 155 is 3303\n",
      "Value 156 is 3312\n",
      "Value 157 is 3321\n",
      "Value 158 is 3330\n",
      "Value 159 is 3402\n",
      "Value 160 is 3411\n",
      "Value 161 is 3420\n",
      "Value 162 is 3501\n",
      "Value 163 is 3510\n",
      "Value 164 is 3600\n",
      "Value 165 is 4005\n",
      "Value 166 is 4014\n",
      "Value 167 is 4023\n",
      "Value 168 is 4032\n",
      "Value 169 is 4041\n",
      "Value 170 is 4050\n",
      "Value 171 is 4104\n",
      "Value 172 is 4113\n",
      "Value 173 is 4122\n",
      "Value 174 is 4131\n",
      "Value 175 is 4140\n",
      "Value 176 is 4203\n",
      "Value 177 is 4212\n",
      "Value 178 is 4221\n",
      "Value 179 is 4230\n",
      "Value 180 is 4302\n",
      "Value 181 is 4311\n",
      "Value 182 is 4320\n",
      "Value 183 is 4401\n",
      "Value 184 is 4410\n",
      "Value 185 is 4500\n",
      "Value 186 is 5004\n",
      "Value 187 is 5013\n",
      "Value 188 is 5022\n",
      "Value 189 is 5031\n",
      "Value 190 is 5040\n",
      "Value 191 is 5103\n",
      "Value 192 is 5112\n",
      "Value 193 is 5121\n",
      "Value 194 is 5130\n",
      "Value 195 is 5202\n",
      "Value 196 is 5211\n",
      "Value 197 is 5220\n",
      "Value 198 is 5301\n",
      "Value 199 is 5310\n",
      "Value 200 is 5400\n",
      "Value 201 is 6003\n",
      "Value 202 is 6012\n",
      "Value 203 is 6021\n",
      "Value 204 is 6030\n",
      "Value 205 is 6102\n",
      "Value 206 is 6111\n",
      "Value 207 is 6120\n",
      "Value 208 is 6201\n",
      "Value 209 is 6210\n",
      "Value 210 is 6300\n",
      "Value 211 is 7002\n",
      "Value 212 is 7011\n",
      "Value 213 is 7020\n",
      "Value 214 is 7101\n",
      "Value 215 is 7110\n",
      "Value 216 is 7200\n",
      "Value 217 is 8001\n",
      "Value 218 is 8010\n",
      "Value 219 is 8100\n",
      "Value 220 is 9000\n"
     ]
    }
   ],
   "source": [
    "from itertools import product\n",
    "count=1\n",
    "for d in product(range(10),repeat=4):\n",
    "    if sum(d)==9:\n",
    "        print(f'Value {count} is {\"\".join(map(str, list(d)))}')\n",
    "        count+=1"
   ]
  },
  {
   "cell_type": "markdown",
   "metadata": {},
   "source": [
    "How manynon-negative integer numbers are there below 10000 such that their sum of digits is equal to 10?"
   ]
  },
  {
   "cell_type": "code",
   "execution_count": 25,
   "metadata": {},
   "outputs": [
    {
     "name": "stdout",
     "output_type": "stream",
     "text": [
      "Value 1 is 0019\n",
      "Value 2 is 0028\n",
      "Value 3 is 0037\n",
      "Value 4 is 0046\n",
      "Value 5 is 0055\n",
      "Value 6 is 0064\n",
      "Value 7 is 0073\n",
      "Value 8 is 0082\n",
      "Value 9 is 0091\n",
      "Value 10 is 0109\n",
      "Value 11 is 0118\n",
      "Value 12 is 0127\n",
      "Value 13 is 0136\n",
      "Value 14 is 0145\n",
      "Value 15 is 0154\n",
      "Value 16 is 0163\n",
      "Value 17 is 0172\n",
      "Value 18 is 0181\n",
      "Value 19 is 0190\n",
      "Value 20 is 0208\n",
      "Value 21 is 0217\n",
      "Value 22 is 0226\n",
      "Value 23 is 0235\n",
      "Value 24 is 0244\n",
      "Value 25 is 0253\n",
      "Value 26 is 0262\n",
      "Value 27 is 0271\n",
      "Value 28 is 0280\n",
      "Value 29 is 0307\n",
      "Value 30 is 0316\n",
      "Value 31 is 0325\n",
      "Value 32 is 0334\n",
      "Value 33 is 0343\n",
      "Value 34 is 0352\n",
      "Value 35 is 0361\n",
      "Value 36 is 0370\n",
      "Value 37 is 0406\n",
      "Value 38 is 0415\n",
      "Value 39 is 0424\n",
      "Value 40 is 0433\n",
      "Value 41 is 0442\n",
      "Value 42 is 0451\n",
      "Value 43 is 0460\n",
      "Value 44 is 0505\n",
      "Value 45 is 0514\n",
      "Value 46 is 0523\n",
      "Value 47 is 0532\n",
      "Value 48 is 0541\n",
      "Value 49 is 0550\n",
      "Value 50 is 0604\n",
      "Value 51 is 0613\n",
      "Value 52 is 0622\n",
      "Value 53 is 0631\n",
      "Value 54 is 0640\n",
      "Value 55 is 0703\n",
      "Value 56 is 0712\n",
      "Value 57 is 0721\n",
      "Value 58 is 0730\n",
      "Value 59 is 0802\n",
      "Value 60 is 0811\n",
      "Value 61 is 0820\n",
      "Value 62 is 0901\n",
      "Value 63 is 0910\n",
      "Value 64 is 1009\n",
      "Value 65 is 1018\n",
      "Value 66 is 1027\n",
      "Value 67 is 1036\n",
      "Value 68 is 1045\n",
      "Value 69 is 1054\n",
      "Value 70 is 1063\n",
      "Value 71 is 1072\n",
      "Value 72 is 1081\n",
      "Value 73 is 1090\n",
      "Value 74 is 1108\n",
      "Value 75 is 1117\n",
      "Value 76 is 1126\n",
      "Value 77 is 1135\n",
      "Value 78 is 1144\n",
      "Value 79 is 1153\n",
      "Value 80 is 1162\n",
      "Value 81 is 1171\n",
      "Value 82 is 1180\n",
      "Value 83 is 1207\n",
      "Value 84 is 1216\n",
      "Value 85 is 1225\n",
      "Value 86 is 1234\n",
      "Value 87 is 1243\n",
      "Value 88 is 1252\n",
      "Value 89 is 1261\n",
      "Value 90 is 1270\n",
      "Value 91 is 1306\n",
      "Value 92 is 1315\n",
      "Value 93 is 1324\n",
      "Value 94 is 1333\n",
      "Value 95 is 1342\n",
      "Value 96 is 1351\n",
      "Value 97 is 1360\n",
      "Value 98 is 1405\n",
      "Value 99 is 1414\n",
      "Value 100 is 1423\n",
      "Value 101 is 1432\n",
      "Value 102 is 1441\n",
      "Value 103 is 1450\n",
      "Value 104 is 1504\n",
      "Value 105 is 1513\n",
      "Value 106 is 1522\n",
      "Value 107 is 1531\n",
      "Value 108 is 1540\n",
      "Value 109 is 1603\n",
      "Value 110 is 1612\n",
      "Value 111 is 1621\n",
      "Value 112 is 1630\n",
      "Value 113 is 1702\n",
      "Value 114 is 1711\n",
      "Value 115 is 1720\n",
      "Value 116 is 1801\n",
      "Value 117 is 1810\n",
      "Value 118 is 1900\n",
      "Value 119 is 2008\n",
      "Value 120 is 2017\n",
      "Value 121 is 2026\n",
      "Value 122 is 2035\n",
      "Value 123 is 2044\n",
      "Value 124 is 2053\n",
      "Value 125 is 2062\n",
      "Value 126 is 2071\n",
      "Value 127 is 2080\n",
      "Value 128 is 2107\n",
      "Value 129 is 2116\n",
      "Value 130 is 2125\n",
      "Value 131 is 2134\n",
      "Value 132 is 2143\n",
      "Value 133 is 2152\n",
      "Value 134 is 2161\n",
      "Value 135 is 2170\n",
      "Value 136 is 2206\n",
      "Value 137 is 2215\n",
      "Value 138 is 2224\n",
      "Value 139 is 2233\n",
      "Value 140 is 2242\n",
      "Value 141 is 2251\n",
      "Value 142 is 2260\n",
      "Value 143 is 2305\n",
      "Value 144 is 2314\n",
      "Value 145 is 2323\n",
      "Value 146 is 2332\n",
      "Value 147 is 2341\n",
      "Value 148 is 2350\n",
      "Value 149 is 2404\n",
      "Value 150 is 2413\n",
      "Value 151 is 2422\n",
      "Value 152 is 2431\n",
      "Value 153 is 2440\n",
      "Value 154 is 2503\n",
      "Value 155 is 2512\n",
      "Value 156 is 2521\n",
      "Value 157 is 2530\n",
      "Value 158 is 2602\n",
      "Value 159 is 2611\n",
      "Value 160 is 2620\n",
      "Value 161 is 2701\n",
      "Value 162 is 2710\n",
      "Value 163 is 2800\n",
      "Value 164 is 3007\n",
      "Value 165 is 3016\n",
      "Value 166 is 3025\n",
      "Value 167 is 3034\n",
      "Value 168 is 3043\n",
      "Value 169 is 3052\n",
      "Value 170 is 3061\n",
      "Value 171 is 3070\n",
      "Value 172 is 3106\n",
      "Value 173 is 3115\n",
      "Value 174 is 3124\n",
      "Value 175 is 3133\n",
      "Value 176 is 3142\n",
      "Value 177 is 3151\n",
      "Value 178 is 3160\n",
      "Value 179 is 3205\n",
      "Value 180 is 3214\n",
      "Value 181 is 3223\n",
      "Value 182 is 3232\n",
      "Value 183 is 3241\n",
      "Value 184 is 3250\n",
      "Value 185 is 3304\n",
      "Value 186 is 3313\n",
      "Value 187 is 3322\n",
      "Value 188 is 3331\n",
      "Value 189 is 3340\n",
      "Value 190 is 3403\n",
      "Value 191 is 3412\n",
      "Value 192 is 3421\n",
      "Value 193 is 3430\n",
      "Value 194 is 3502\n",
      "Value 195 is 3511\n",
      "Value 196 is 3520\n",
      "Value 197 is 3601\n",
      "Value 198 is 3610\n",
      "Value 199 is 3700\n",
      "Value 200 is 4006\n",
      "Value 201 is 4015\n",
      "Value 202 is 4024\n",
      "Value 203 is 4033\n",
      "Value 204 is 4042\n",
      "Value 205 is 4051\n",
      "Value 206 is 4060\n",
      "Value 207 is 4105\n",
      "Value 208 is 4114\n",
      "Value 209 is 4123\n",
      "Value 210 is 4132\n",
      "Value 211 is 4141\n",
      "Value 212 is 4150\n",
      "Value 213 is 4204\n",
      "Value 214 is 4213\n",
      "Value 215 is 4222\n",
      "Value 216 is 4231\n",
      "Value 217 is 4240\n",
      "Value 218 is 4303\n",
      "Value 219 is 4312\n",
      "Value 220 is 4321\n",
      "Value 221 is 4330\n",
      "Value 222 is 4402\n",
      "Value 223 is 4411\n",
      "Value 224 is 4420\n",
      "Value 225 is 4501\n",
      "Value 226 is 4510\n",
      "Value 227 is 4600\n",
      "Value 228 is 5005\n",
      "Value 229 is 5014\n",
      "Value 230 is 5023\n",
      "Value 231 is 5032\n",
      "Value 232 is 5041\n",
      "Value 233 is 5050\n",
      "Value 234 is 5104\n",
      "Value 235 is 5113\n",
      "Value 236 is 5122\n",
      "Value 237 is 5131\n",
      "Value 238 is 5140\n",
      "Value 239 is 5203\n",
      "Value 240 is 5212\n",
      "Value 241 is 5221\n",
      "Value 242 is 5230\n",
      "Value 243 is 5302\n",
      "Value 244 is 5311\n",
      "Value 245 is 5320\n",
      "Value 246 is 5401\n",
      "Value 247 is 5410\n",
      "Value 248 is 5500\n",
      "Value 249 is 6004\n",
      "Value 250 is 6013\n",
      "Value 251 is 6022\n",
      "Value 252 is 6031\n",
      "Value 253 is 6040\n",
      "Value 254 is 6103\n",
      "Value 255 is 6112\n",
      "Value 256 is 6121\n",
      "Value 257 is 6130\n",
      "Value 258 is 6202\n",
      "Value 259 is 6211\n",
      "Value 260 is 6220\n",
      "Value 261 is 6301\n",
      "Value 262 is 6310\n",
      "Value 263 is 6400\n",
      "Value 264 is 7003\n",
      "Value 265 is 7012\n",
      "Value 266 is 7021\n",
      "Value 267 is 7030\n",
      "Value 268 is 7102\n",
      "Value 269 is 7111\n",
      "Value 270 is 7120\n",
      "Value 271 is 7201\n",
      "Value 272 is 7210\n",
      "Value 273 is 7300\n",
      "Value 274 is 8002\n",
      "Value 275 is 8011\n",
      "Value 276 is 8020\n",
      "Value 277 is 8101\n",
      "Value 278 is 8110\n",
      "Value 279 is 8200\n",
      "Value 280 is 9001\n",
      "Value 281 is 9010\n",
      "Value 282 is 9100\n"
     ]
    }
   ],
   "source": [
    "from itertools import product\n",
    "count=1\n",
    "for d in product(range(10),repeat=4):\n",
    "    if sum(d)==10:\n",
    "        print(f'Value {count} is {\"\".join(map(str, list(d)))}')\n",
    "        count+=1"
   ]
  },
  {
   "cell_type": "markdown",
   "metadata": {},
   "source": [
    "How many four-digit numbers are there such that their digits are non-increasing, that is each next digit is not greater than the previous one?\n",
    "Three-digit numbers are also four-digit, they just start with 0."
   ]
  },
  {
   "cell_type": "code",
   "execution_count": 2,
   "metadata": {},
   "outputs": [
    {
     "name": "stdout",
     "output_type": "stream",
     "text": [
      "Value 1 is 0000\n",
      "Value 2 is 1000\n",
      "Value 3 is 1100\n",
      "Value 4 is 1110\n",
      "Value 5 is 1111\n",
      "Value 6 is 2000\n",
      "Value 7 is 2100\n",
      "Value 8 is 2110\n",
      "Value 9 is 2111\n",
      "Value 10 is 2200\n",
      "Value 11 is 2210\n",
      "Value 12 is 2211\n",
      "Value 13 is 2220\n",
      "Value 14 is 2221\n",
      "Value 15 is 2222\n",
      "Value 16 is 3000\n",
      "Value 17 is 3100\n",
      "Value 18 is 3110\n",
      "Value 19 is 3111\n",
      "Value 20 is 3200\n",
      "Value 21 is 3210\n",
      "Value 22 is 3211\n",
      "Value 23 is 3220\n",
      "Value 24 is 3221\n",
      "Value 25 is 3222\n",
      "Value 26 is 3300\n",
      "Value 27 is 3310\n",
      "Value 28 is 3311\n",
      "Value 29 is 3320\n",
      "Value 30 is 3321\n",
      "Value 31 is 3322\n",
      "Value 32 is 3330\n",
      "Value 33 is 3331\n",
      "Value 34 is 3332\n",
      "Value 35 is 3333\n",
      "Value 36 is 4000\n",
      "Value 37 is 4100\n",
      "Value 38 is 4110\n",
      "Value 39 is 4111\n",
      "Value 40 is 4200\n",
      "Value 41 is 4210\n",
      "Value 42 is 4211\n",
      "Value 43 is 4220\n",
      "Value 44 is 4221\n",
      "Value 45 is 4222\n",
      "Value 46 is 4300\n",
      "Value 47 is 4310\n",
      "Value 48 is 4311\n",
      "Value 49 is 4320\n",
      "Value 50 is 4321\n",
      "Value 51 is 4322\n",
      "Value 52 is 4330\n",
      "Value 53 is 4331\n",
      "Value 54 is 4332\n",
      "Value 55 is 4333\n",
      "Value 56 is 4400\n",
      "Value 57 is 4410\n",
      "Value 58 is 4411\n",
      "Value 59 is 4420\n",
      "Value 60 is 4421\n",
      "Value 61 is 4422\n",
      "Value 62 is 4430\n",
      "Value 63 is 4431\n",
      "Value 64 is 4432\n",
      "Value 65 is 4433\n",
      "Value 66 is 4440\n",
      "Value 67 is 4441\n",
      "Value 68 is 4442\n",
      "Value 69 is 4443\n",
      "Value 70 is 4444\n",
      "Value 71 is 5000\n",
      "Value 72 is 5100\n",
      "Value 73 is 5110\n",
      "Value 74 is 5111\n",
      "Value 75 is 5200\n",
      "Value 76 is 5210\n",
      "Value 77 is 5211\n",
      "Value 78 is 5220\n",
      "Value 79 is 5221\n",
      "Value 80 is 5222\n",
      "Value 81 is 5300\n",
      "Value 82 is 5310\n",
      "Value 83 is 5311\n",
      "Value 84 is 5320\n",
      "Value 85 is 5321\n",
      "Value 86 is 5322\n",
      "Value 87 is 5330\n",
      "Value 88 is 5331\n",
      "Value 89 is 5332\n",
      "Value 90 is 5333\n",
      "Value 91 is 5400\n",
      "Value 92 is 5410\n",
      "Value 93 is 5411\n",
      "Value 94 is 5420\n",
      "Value 95 is 5421\n",
      "Value 96 is 5422\n",
      "Value 97 is 5430\n",
      "Value 98 is 5431\n",
      "Value 99 is 5432\n",
      "Value 100 is 5433\n",
      "Value 101 is 5440\n",
      "Value 102 is 5441\n",
      "Value 103 is 5442\n",
      "Value 104 is 5443\n",
      "Value 105 is 5444\n",
      "Value 106 is 5500\n",
      "Value 107 is 5510\n",
      "Value 108 is 5511\n",
      "Value 109 is 5520\n",
      "Value 110 is 5521\n",
      "Value 111 is 5522\n",
      "Value 112 is 5530\n",
      "Value 113 is 5531\n",
      "Value 114 is 5532\n",
      "Value 115 is 5533\n",
      "Value 116 is 5540\n",
      "Value 117 is 5541\n",
      "Value 118 is 5542\n",
      "Value 119 is 5543\n",
      "Value 120 is 5544\n",
      "Value 121 is 5550\n",
      "Value 122 is 5551\n",
      "Value 123 is 5552\n",
      "Value 124 is 5553\n",
      "Value 125 is 5554\n",
      "Value 126 is 5555\n",
      "Value 127 is 6000\n",
      "Value 128 is 6100\n",
      "Value 129 is 6110\n",
      "Value 130 is 6111\n",
      "Value 131 is 6200\n",
      "Value 132 is 6210\n",
      "Value 133 is 6211\n",
      "Value 134 is 6220\n",
      "Value 135 is 6221\n",
      "Value 136 is 6222\n",
      "Value 137 is 6300\n",
      "Value 138 is 6310\n",
      "Value 139 is 6311\n",
      "Value 140 is 6320\n",
      "Value 141 is 6321\n",
      "Value 142 is 6322\n",
      "Value 143 is 6330\n",
      "Value 144 is 6331\n",
      "Value 145 is 6332\n",
      "Value 146 is 6333\n",
      "Value 147 is 6400\n",
      "Value 148 is 6410\n",
      "Value 149 is 6411\n",
      "Value 150 is 6420\n",
      "Value 151 is 6421\n",
      "Value 152 is 6422\n",
      "Value 153 is 6430\n",
      "Value 154 is 6431\n",
      "Value 155 is 6432\n",
      "Value 156 is 6433\n",
      "Value 157 is 6440\n",
      "Value 158 is 6441\n",
      "Value 159 is 6442\n",
      "Value 160 is 6443\n",
      "Value 161 is 6444\n",
      "Value 162 is 6500\n",
      "Value 163 is 6510\n",
      "Value 164 is 6511\n",
      "Value 165 is 6520\n",
      "Value 166 is 6521\n",
      "Value 167 is 6522\n",
      "Value 168 is 6530\n",
      "Value 169 is 6531\n",
      "Value 170 is 6532\n",
      "Value 171 is 6533\n",
      "Value 172 is 6540\n",
      "Value 173 is 6541\n",
      "Value 174 is 6542\n",
      "Value 175 is 6543\n",
      "Value 176 is 6544\n",
      "Value 177 is 6550\n",
      "Value 178 is 6551\n",
      "Value 179 is 6552\n",
      "Value 180 is 6553\n",
      "Value 181 is 6554\n",
      "Value 182 is 6555\n",
      "Value 183 is 6600\n",
      "Value 184 is 6610\n",
      "Value 185 is 6611\n",
      "Value 186 is 6620\n",
      "Value 187 is 6621\n",
      "Value 188 is 6622\n",
      "Value 189 is 6630\n",
      "Value 190 is 6631\n",
      "Value 191 is 6632\n",
      "Value 192 is 6633\n",
      "Value 193 is 6640\n",
      "Value 194 is 6641\n",
      "Value 195 is 6642\n",
      "Value 196 is 6643\n",
      "Value 197 is 6644\n",
      "Value 198 is 6650\n",
      "Value 199 is 6651\n",
      "Value 200 is 6652\n",
      "Value 201 is 6653\n",
      "Value 202 is 6654\n",
      "Value 203 is 6655\n",
      "Value 204 is 6660\n",
      "Value 205 is 6661\n",
      "Value 206 is 6662\n",
      "Value 207 is 6663\n",
      "Value 208 is 6664\n",
      "Value 209 is 6665\n",
      "Value 210 is 6666\n",
      "Value 211 is 7000\n",
      "Value 212 is 7100\n",
      "Value 213 is 7110\n",
      "Value 214 is 7111\n",
      "Value 215 is 7200\n",
      "Value 216 is 7210\n",
      "Value 217 is 7211\n",
      "Value 218 is 7220\n",
      "Value 219 is 7221\n",
      "Value 220 is 7222\n",
      "Value 221 is 7300\n",
      "Value 222 is 7310\n",
      "Value 223 is 7311\n",
      "Value 224 is 7320\n",
      "Value 225 is 7321\n",
      "Value 226 is 7322\n",
      "Value 227 is 7330\n",
      "Value 228 is 7331\n",
      "Value 229 is 7332\n",
      "Value 230 is 7333\n",
      "Value 231 is 7400\n",
      "Value 232 is 7410\n",
      "Value 233 is 7411\n",
      "Value 234 is 7420\n",
      "Value 235 is 7421\n",
      "Value 236 is 7422\n",
      "Value 237 is 7430\n",
      "Value 238 is 7431\n",
      "Value 239 is 7432\n",
      "Value 240 is 7433\n",
      "Value 241 is 7440\n",
      "Value 242 is 7441\n",
      "Value 243 is 7442\n",
      "Value 244 is 7443\n",
      "Value 245 is 7444\n",
      "Value 246 is 7500\n",
      "Value 247 is 7510\n",
      "Value 248 is 7511\n",
      "Value 249 is 7520\n",
      "Value 250 is 7521\n",
      "Value 251 is 7522\n",
      "Value 252 is 7530\n",
      "Value 253 is 7531\n",
      "Value 254 is 7532\n",
      "Value 255 is 7533\n",
      "Value 256 is 7540\n",
      "Value 257 is 7541\n",
      "Value 258 is 7542\n",
      "Value 259 is 7543\n",
      "Value 260 is 7544\n",
      "Value 261 is 7550\n",
      "Value 262 is 7551\n",
      "Value 263 is 7552\n",
      "Value 264 is 7553\n",
      "Value 265 is 7554\n",
      "Value 266 is 7555\n",
      "Value 267 is 7600\n",
      "Value 268 is 7610\n",
      "Value 269 is 7611\n",
      "Value 270 is 7620\n",
      "Value 271 is 7621\n",
      "Value 272 is 7622\n",
      "Value 273 is 7630\n",
      "Value 274 is 7631\n",
      "Value 275 is 7632\n",
      "Value 276 is 7633\n",
      "Value 277 is 7640\n",
      "Value 278 is 7641\n",
      "Value 279 is 7642\n",
      "Value 280 is 7643\n",
      "Value 281 is 7644\n",
      "Value 282 is 7650\n",
      "Value 283 is 7651\n",
      "Value 284 is 7652\n",
      "Value 285 is 7653\n",
      "Value 286 is 7654\n",
      "Value 287 is 7655\n",
      "Value 288 is 7660\n",
      "Value 289 is 7661\n",
      "Value 290 is 7662\n",
      "Value 291 is 7663\n",
      "Value 292 is 7664\n",
      "Value 293 is 7665\n",
      "Value 294 is 7666\n",
      "Value 295 is 7700\n",
      "Value 296 is 7710\n",
      "Value 297 is 7711\n",
      "Value 298 is 7720\n",
      "Value 299 is 7721\n",
      "Value 300 is 7722\n",
      "Value 301 is 7730\n",
      "Value 302 is 7731\n",
      "Value 303 is 7732\n",
      "Value 304 is 7733\n",
      "Value 305 is 7740\n",
      "Value 306 is 7741\n",
      "Value 307 is 7742\n",
      "Value 308 is 7743\n",
      "Value 309 is 7744\n",
      "Value 310 is 7750\n",
      "Value 311 is 7751\n",
      "Value 312 is 7752\n",
      "Value 313 is 7753\n",
      "Value 314 is 7754\n",
      "Value 315 is 7755\n",
      "Value 316 is 7760\n",
      "Value 317 is 7761\n",
      "Value 318 is 7762\n",
      "Value 319 is 7763\n",
      "Value 320 is 7764\n",
      "Value 321 is 7765\n",
      "Value 322 is 7766\n",
      "Value 323 is 7770\n",
      "Value 324 is 7771\n",
      "Value 325 is 7772\n",
      "Value 326 is 7773\n",
      "Value 327 is 7774\n",
      "Value 328 is 7775\n",
      "Value 329 is 7776\n",
      "Value 330 is 7777\n",
      "Value 331 is 8000\n",
      "Value 332 is 8100\n",
      "Value 333 is 8110\n",
      "Value 334 is 8111\n",
      "Value 335 is 8200\n",
      "Value 336 is 8210\n",
      "Value 337 is 8211\n",
      "Value 338 is 8220\n",
      "Value 339 is 8221\n",
      "Value 340 is 8222\n",
      "Value 341 is 8300\n",
      "Value 342 is 8310\n",
      "Value 343 is 8311\n",
      "Value 344 is 8320\n",
      "Value 345 is 8321\n",
      "Value 346 is 8322\n",
      "Value 347 is 8330\n",
      "Value 348 is 8331\n",
      "Value 349 is 8332\n",
      "Value 350 is 8333\n",
      "Value 351 is 8400\n",
      "Value 352 is 8410\n",
      "Value 353 is 8411\n",
      "Value 354 is 8420\n",
      "Value 355 is 8421\n",
      "Value 356 is 8422\n",
      "Value 357 is 8430\n",
      "Value 358 is 8431\n",
      "Value 359 is 8432\n",
      "Value 360 is 8433\n",
      "Value 361 is 8440\n",
      "Value 362 is 8441\n",
      "Value 363 is 8442\n",
      "Value 364 is 8443\n",
      "Value 365 is 8444\n",
      "Value 366 is 8500\n",
      "Value 367 is 8510\n",
      "Value 368 is 8511\n",
      "Value 369 is 8520\n",
      "Value 370 is 8521\n",
      "Value 371 is 8522\n",
      "Value 372 is 8530\n",
      "Value 373 is 8531\n",
      "Value 374 is 8532\n",
      "Value 375 is 8533\n",
      "Value 376 is 8540\n",
      "Value 377 is 8541\n",
      "Value 378 is 8542\n",
      "Value 379 is 8543\n",
      "Value 380 is 8544\n",
      "Value 381 is 8550\n",
      "Value 382 is 8551\n",
      "Value 383 is 8552\n",
      "Value 384 is 8553\n",
      "Value 385 is 8554\n",
      "Value 386 is 8555\n",
      "Value 387 is 8600\n",
      "Value 388 is 8610\n",
      "Value 389 is 8611\n",
      "Value 390 is 8620\n",
      "Value 391 is 8621\n",
      "Value 392 is 8622\n",
      "Value 393 is 8630\n",
      "Value 394 is 8631\n",
      "Value 395 is 8632\n",
      "Value 396 is 8633\n",
      "Value 397 is 8640\n",
      "Value 398 is 8641\n",
      "Value 399 is 8642\n",
      "Value 400 is 8643\n",
      "Value 401 is 8644\n",
      "Value 402 is 8650\n",
      "Value 403 is 8651\n",
      "Value 404 is 8652\n",
      "Value 405 is 8653\n",
      "Value 406 is 8654\n",
      "Value 407 is 8655\n",
      "Value 408 is 8660\n",
      "Value 409 is 8661\n",
      "Value 410 is 8662\n",
      "Value 411 is 8663\n",
      "Value 412 is 8664\n",
      "Value 413 is 8665\n",
      "Value 414 is 8666\n",
      "Value 415 is 8700\n",
      "Value 416 is 8710\n",
      "Value 417 is 8711\n",
      "Value 418 is 8720\n",
      "Value 419 is 8721\n",
      "Value 420 is 8722\n",
      "Value 421 is 8730\n",
      "Value 422 is 8731\n",
      "Value 423 is 8732\n",
      "Value 424 is 8733\n",
      "Value 425 is 8740\n",
      "Value 426 is 8741\n",
      "Value 427 is 8742\n",
      "Value 428 is 8743\n",
      "Value 429 is 8744\n",
      "Value 430 is 8750\n",
      "Value 431 is 8751\n",
      "Value 432 is 8752\n",
      "Value 433 is 8753\n",
      "Value 434 is 8754\n",
      "Value 435 is 8755\n",
      "Value 436 is 8760\n",
      "Value 437 is 8761\n",
      "Value 438 is 8762\n",
      "Value 439 is 8763\n",
      "Value 440 is 8764\n",
      "Value 441 is 8765\n",
      "Value 442 is 8766\n",
      "Value 443 is 8770\n",
      "Value 444 is 8771\n",
      "Value 445 is 8772\n",
      "Value 446 is 8773\n",
      "Value 447 is 8774\n",
      "Value 448 is 8775\n",
      "Value 449 is 8776\n",
      "Value 450 is 8777\n",
      "Value 451 is 8800\n",
      "Value 452 is 8810\n",
      "Value 453 is 8811\n",
      "Value 454 is 8820\n",
      "Value 455 is 8821\n",
      "Value 456 is 8822\n",
      "Value 457 is 8830\n",
      "Value 458 is 8831\n",
      "Value 459 is 8832\n",
      "Value 460 is 8833\n",
      "Value 461 is 8840\n",
      "Value 462 is 8841\n",
      "Value 463 is 8842\n",
      "Value 464 is 8843\n",
      "Value 465 is 8844\n",
      "Value 466 is 8850\n",
      "Value 467 is 8851\n",
      "Value 468 is 8852\n",
      "Value 469 is 8853\n",
      "Value 470 is 8854\n",
      "Value 471 is 8855\n",
      "Value 472 is 8860\n",
      "Value 473 is 8861\n",
      "Value 474 is 8862\n",
      "Value 475 is 8863\n",
      "Value 476 is 8864\n",
      "Value 477 is 8865\n",
      "Value 478 is 8866\n",
      "Value 479 is 8870\n",
      "Value 480 is 8871\n",
      "Value 481 is 8872\n",
      "Value 482 is 8873\n",
      "Value 483 is 8874\n",
      "Value 484 is 8875\n",
      "Value 485 is 8876\n",
      "Value 486 is 8877\n",
      "Value 487 is 8880\n",
      "Value 488 is 8881\n",
      "Value 489 is 8882\n",
      "Value 490 is 8883\n",
      "Value 491 is 8884\n",
      "Value 492 is 8885\n",
      "Value 493 is 8886\n",
      "Value 494 is 8887\n",
      "Value 495 is 8888\n",
      "Value 496 is 9000\n",
      "Value 497 is 9100\n",
      "Value 498 is 9110\n",
      "Value 499 is 9111\n",
      "Value 500 is 9200\n",
      "Value 501 is 9210\n",
      "Value 502 is 9211\n",
      "Value 503 is 9220\n",
      "Value 504 is 9221\n",
      "Value 505 is 9222\n",
      "Value 506 is 9300\n",
      "Value 507 is 9310\n",
      "Value 508 is 9311\n",
      "Value 509 is 9320\n",
      "Value 510 is 9321\n",
      "Value 511 is 9322\n",
      "Value 512 is 9330\n",
      "Value 513 is 9331\n",
      "Value 514 is 9332\n",
      "Value 515 is 9333\n",
      "Value 516 is 9400\n",
      "Value 517 is 9410\n",
      "Value 518 is 9411\n",
      "Value 519 is 9420\n",
      "Value 520 is 9421\n",
      "Value 521 is 9422\n",
      "Value 522 is 9430\n",
      "Value 523 is 9431\n",
      "Value 524 is 9432\n",
      "Value 525 is 9433\n",
      "Value 526 is 9440\n",
      "Value 527 is 9441\n",
      "Value 528 is 9442\n",
      "Value 529 is 9443\n",
      "Value 530 is 9444\n",
      "Value 531 is 9500\n",
      "Value 532 is 9510\n",
      "Value 533 is 9511\n",
      "Value 534 is 9520\n",
      "Value 535 is 9521\n",
      "Value 536 is 9522\n",
      "Value 537 is 9530\n",
      "Value 538 is 9531\n",
      "Value 539 is 9532\n",
      "Value 540 is 9533\n",
      "Value 541 is 9540\n",
      "Value 542 is 9541\n",
      "Value 543 is 9542\n",
      "Value 544 is 9543\n",
      "Value 545 is 9544\n",
      "Value 546 is 9550\n",
      "Value 547 is 9551\n",
      "Value 548 is 9552\n",
      "Value 549 is 9553\n",
      "Value 550 is 9554\n",
      "Value 551 is 9555\n",
      "Value 552 is 9600\n",
      "Value 553 is 9610\n",
      "Value 554 is 9611\n",
      "Value 555 is 9620\n",
      "Value 556 is 9621\n",
      "Value 557 is 9622\n",
      "Value 558 is 9630\n",
      "Value 559 is 9631\n",
      "Value 560 is 9632\n",
      "Value 561 is 9633\n",
      "Value 562 is 9640\n",
      "Value 563 is 9641\n",
      "Value 564 is 9642\n",
      "Value 565 is 9643\n",
      "Value 566 is 9644\n",
      "Value 567 is 9650\n",
      "Value 568 is 9651\n",
      "Value 569 is 9652\n",
      "Value 570 is 9653\n",
      "Value 571 is 9654\n",
      "Value 572 is 9655\n",
      "Value 573 is 9660\n",
      "Value 574 is 9661\n",
      "Value 575 is 9662\n",
      "Value 576 is 9663\n",
      "Value 577 is 9664\n",
      "Value 578 is 9665\n",
      "Value 579 is 9666\n",
      "Value 580 is 9700\n",
      "Value 581 is 9710\n",
      "Value 582 is 9711\n",
      "Value 583 is 9720\n",
      "Value 584 is 9721\n",
      "Value 585 is 9722\n",
      "Value 586 is 9730\n",
      "Value 587 is 9731\n",
      "Value 588 is 9732\n",
      "Value 589 is 9733\n",
      "Value 590 is 9740\n",
      "Value 591 is 9741\n",
      "Value 592 is 9742\n",
      "Value 593 is 9743\n",
      "Value 594 is 9744\n",
      "Value 595 is 9750\n",
      "Value 596 is 9751\n",
      "Value 597 is 9752\n",
      "Value 598 is 9753\n",
      "Value 599 is 9754\n",
      "Value 600 is 9755\n",
      "Value 601 is 9760\n",
      "Value 602 is 9761\n",
      "Value 603 is 9762\n",
      "Value 604 is 9763\n",
      "Value 605 is 9764\n",
      "Value 606 is 9765\n",
      "Value 607 is 9766\n",
      "Value 608 is 9770\n",
      "Value 609 is 9771\n",
      "Value 610 is 9772\n",
      "Value 611 is 9773\n",
      "Value 612 is 9774\n",
      "Value 613 is 9775\n",
      "Value 614 is 9776\n",
      "Value 615 is 9777\n",
      "Value 616 is 9800\n",
      "Value 617 is 9810\n",
      "Value 618 is 9811\n",
      "Value 619 is 9820\n",
      "Value 620 is 9821\n",
      "Value 621 is 9822\n",
      "Value 622 is 9830\n",
      "Value 623 is 9831\n",
      "Value 624 is 9832\n",
      "Value 625 is 9833\n",
      "Value 626 is 9840\n",
      "Value 627 is 9841\n",
      "Value 628 is 9842\n",
      "Value 629 is 9843\n",
      "Value 630 is 9844\n",
      "Value 631 is 9850\n",
      "Value 632 is 9851\n",
      "Value 633 is 9852\n",
      "Value 634 is 9853\n",
      "Value 635 is 9854\n",
      "Value 636 is 9855\n",
      "Value 637 is 9860\n",
      "Value 638 is 9861\n",
      "Value 639 is 9862\n",
      "Value 640 is 9863\n",
      "Value 641 is 9864\n",
      "Value 642 is 9865\n",
      "Value 643 is 9866\n",
      "Value 644 is 9870\n",
      "Value 645 is 9871\n",
      "Value 646 is 9872\n",
      "Value 647 is 9873\n",
      "Value 648 is 9874\n",
      "Value 649 is 9875\n",
      "Value 650 is 9876\n",
      "Value 651 is 9877\n",
      "Value 652 is 9880\n",
      "Value 653 is 9881\n",
      "Value 654 is 9882\n",
      "Value 655 is 9883\n",
      "Value 656 is 9884\n",
      "Value 657 is 9885\n",
      "Value 658 is 9886\n",
      "Value 659 is 9887\n",
      "Value 660 is 9888\n",
      "Value 661 is 9900\n",
      "Value 662 is 9910\n",
      "Value 663 is 9911\n",
      "Value 664 is 9920\n",
      "Value 665 is 9921\n",
      "Value 666 is 9922\n",
      "Value 667 is 9930\n",
      "Value 668 is 9931\n",
      "Value 669 is 9932\n",
      "Value 670 is 9933\n",
      "Value 671 is 9940\n",
      "Value 672 is 9941\n",
      "Value 673 is 9942\n",
      "Value 674 is 9943\n",
      "Value 675 is 9944\n",
      "Value 676 is 9950\n",
      "Value 677 is 9951\n",
      "Value 678 is 9952\n",
      "Value 679 is 9953\n",
      "Value 680 is 9954\n",
      "Value 681 is 9955\n",
      "Value 682 is 9960\n",
      "Value 683 is 9961\n",
      "Value 684 is 9962\n",
      "Value 685 is 9963\n",
      "Value 686 is 9964\n",
      "Value 687 is 9965\n",
      "Value 688 is 9966\n",
      "Value 689 is 9970\n",
      "Value 690 is 9971\n",
      "Value 691 is 9972\n",
      "Value 692 is 9973\n",
      "Value 693 is 9974\n",
      "Value 694 is 9975\n",
      "Value 695 is 9976\n",
      "Value 696 is 9977\n",
      "Value 697 is 9980\n",
      "Value 698 is 9981\n",
      "Value 699 is 9982\n",
      "Value 700 is 9983\n",
      "Value 701 is 9984\n",
      "Value 702 is 9985\n",
      "Value 703 is 9986\n",
      "Value 704 is 9987\n",
      "Value 705 is 9988\n",
      "Value 706 is 9990\n",
      "Value 707 is 9991\n",
      "Value 708 is 9992\n",
      "Value 709 is 9993\n",
      "Value 710 is 9994\n",
      "Value 711 is 9995\n",
      "Value 712 is 9996\n",
      "Value 713 is 9997\n",
      "Value 714 is 9998\n",
      "Value 715 is 9999\n"
     ]
    }
   ],
   "source": [
    "from itertools import product\n",
    "count=1\n",
    "for d in product(range(10),repeat=4):\n",
    "    if d[0]>=d[1]>=d[2]>=d[3]:\n",
    "        print(f'Value {count} is {\"\".join(map(str, list(d)))}')\n",
    "        count+=1"
   ]
  },
  {
   "cell_type": "markdown",
   "metadata": {},
   "source": [
    "Alice has 7 different textbooks. She would like to lend three books to Bob for a weekend. How many ways does she have to do it?"
   ]
  },
  {
   "cell_type": "code",
   "execution_count": 27,
   "metadata": {},
   "outputs": [
    {
     "name": "stdout",
     "output_type": "stream",
     "text": [
      "There are 35 different ways to do the task\n"
     ]
    }
   ],
   "source": [
    "print(f'There are {c(7,3)} different ways to do the task')"
   ]
  },
  {
   "cell_type": "markdown",
   "metadata": {},
   "source": [
    "Alice has 7 textbooks and Bob has 5 textbooks. All textbooks are different. They would like to exchange three books each between each other for a weekend. That is, Alice gives Bob three of her books and Bob gives Alice three of his books. How many ways do they have to do it?"
   ]
  },
  {
   "cell_type": "code",
   "execution_count": 28,
   "metadata": {},
   "outputs": [
    {
     "name": "stdout",
     "output_type": "stream",
     "text": [
      "There are 350 different ways to do the task\n"
     ]
    }
   ],
   "source": [
    "print(f'There are {c(7,3)*c(5,3)} different ways to do the task')"
   ]
  },
  {
   "cell_type": "markdown",
   "metadata": {},
   "source": [
    "Five married couples are planning a barbecue. They need to pick three couples who will be responsible for bringing food. How many ways do they have to do it?"
   ]
  },
  {
   "cell_type": "code",
   "execution_count": 29,
   "metadata": {},
   "outputs": [
    {
     "name": "stdout",
     "output_type": "stream",
     "text": [
      "There are 10 different ways to do the task\n"
     ]
    }
   ],
   "source": [
    "print(f'There are {c(5,3)} different ways to do the task')"
   ]
  },
  {
   "cell_type": "markdown",
   "metadata": {},
   "source": [
    "Five married couples are planning a barbecue. They need to hold a meeting dedicated to the planning. The meeting should consist of five people, one from each couple. How many possible ways do they have to pick people for the meeting?"
   ]
  },
  {
   "cell_type": "code",
   "execution_count": 30,
   "metadata": {},
   "outputs": [
    {
     "name": "stdout",
     "output_type": "stream",
     "text": [
      "There are 32 different ways to do the task\n"
     ]
    }
   ],
   "source": [
    "print(f'There are {c(2,1)**5} different ways to do the task')"
   ]
  },
  {
   "cell_type": "markdown",
   "metadata": {},
   "source": [
    "Five married couples gathered for a barbecue. They need to pick three people among them who will be responsible for preparing the table. But they do not want to pick two people from the same couple for this (this would not be fair). How many ways do they have to pick three people satisfying this requirement?"
   ]
  },
  {
   "cell_type": "code",
   "execution_count": 31,
   "metadata": {},
   "outputs": [
    {
     "name": "stdout",
     "output_type": "stream",
     "text": [
      "There are 80 different ways to do the task\n"
     ]
    }
   ],
   "source": [
    "print(f'There are {c(5,3)*(2**3)} different ways to do the task')"
   ]
  },
  {
   "cell_type": "markdown",
   "metadata": {},
   "source": [
    "In a 6 number lottery one is trying to guess an unordered subset of 6 numbers among 44 numbers without repetitions. For this one picks 6 numbers out of 44 himself. How many ways are there to do this?"
   ]
  },
  {
   "cell_type": "code",
   "execution_count": 32,
   "metadata": {},
   "outputs": [
    {
     "name": "stdout",
     "output_type": "stream",
     "text": [
      "There are 7059052 different ways to do the task\n"
     ]
    }
   ],
   "source": [
    "print(f'There are {c(44,6)} different ways to do the task')"
   ]
  },
  {
   "cell_type": "markdown",
   "metadata": {},
   "source": [
    "In a 6 number lottery one is trying to guess an unordered subset of 6 numbers among 44 numbers without repetitions. After the lottery the organisers decided to count how many possible ways are there to guess correctly exactly three numbers. What is the answer to this question? You can use wolfram alpha to compute the exact number."
   ]
  },
  {
   "cell_type": "code",
   "execution_count": 33,
   "metadata": {},
   "outputs": [
    {
     "name": "stdout",
     "output_type": "stream",
     "text": [
      "There are 168720 different ways to do the task\n"
     ]
    }
   ],
   "source": [
    "print(f'There are {c(6,3)*c(38,3)} different ways to do the task')"
   ]
  },
  {
   "cell_type": "markdown",
   "metadata": {},
   "source": [
    "# Probability"
   ]
  },
  {
   "cell_type": "markdown",
   "metadata": {},
   "source": [
    "What is the fraction of beans that end near the center (bins 40-60 among 0-100) for the ideal Galton board with 100 layers?"
   ]
  },
  {
   "cell_type": "code",
   "execution_count": 51,
   "metadata": {},
   "outputs": [
    {
     "name": "stdout",
     "output_type": "stream",
     "text": [
      "The fraction of beans near the center will be of 95.3955933071%\n"
     ]
    }
   ],
   "source": [
    "n = 100\n",
    "mink,maxk = (40,60)\n",
    "\n",
    "interest_fract = 0\n",
    "\n",
    "for k in range(mink,maxk):\n",
    "    interest_fract += c(n,k)/(2**n)\n",
    "\n",
    "interest_fract*=100\n",
    "\n",
    "print(f'The fraction of beans near the center will be of {interest_fract:.10f}%')"
   ]
  },
  {
   "cell_type": "markdown",
   "metadata": {},
   "source": [
    "What is the fraction of beans that end near the center (bins 400-600 among 0-1000) for the ideal Galton board with 1000 layers?"
   ]
  },
  {
   "cell_type": "code",
   "execution_count": 50,
   "metadata": {},
   "outputs": [
    {
     "name": "stdout",
     "output_type": "stream",
     "text": [
      "The fraction of beans near the center will be of 99.9999999773%\n"
     ]
    }
   ],
   "source": [
    "n = 1000\n",
    "mink,maxk = (400,600)\n",
    "\n",
    "interest_fract = 0\n",
    "\n",
    "for k in range(mink,maxk):\n",
    "    interest_fract += c(n,k)/(2**n)\n",
    "\n",
    "interest_fract*=100\n",
    "\n",
    "print(f'The fraction of beans near the center will be of {interest_fract:.10f}%')"
   ]
  },
  {
   "cell_type": "markdown",
   "metadata": {},
   "source": [
    "In the same setting with 36 (red, blue) outcomes we consider the sum of two numbers (on two dice). What is the most probable value of this sum"
   ]
  },
  {
   "cell_type": "code",
   "execution_count": 6,
   "metadata": {},
   "outputs": [
    {
     "name": "stdout",
     "output_type": "stream",
     "text": [
      "Sum equal to 1 is 0\n",
      "Sum equal to 2 is 1\n",
      "Sum equal to 3 is 2\n",
      "Sum equal to 4 is 3\n",
      "Sum equal to 5 is 4\n",
      "Sum equal to 6 is 5\n",
      "Sum equal to 7 is 6\n",
      "Sum equal to 8 is 5\n",
      "Sum equal to 9 is 4\n",
      "Sum equal to 10 is 3\n",
      "Sum equal to 11 is 2\n",
      "Sum equal to 12 is 1\n"
     ]
    }
   ],
   "source": [
    "val = [0 for _ in range(12)]\n",
    "\n",
    "for pair in product([i+1 for i in range(6)],[i+1 for i in range(6)]):\n",
    "    val[sum(pair)-1]+=1\n",
    "\n",
    "for i in range(len(val)):\n",
    "    print(f'Sum equal to {i+1} is {val[i]}')"
   ]
  }
 ],
 "metadata": {
  "kernelspec": {
   "display_name": "Python 3",
   "language": "python",
   "name": "python3"
  },
  "language_info": {
   "codemirror_mode": {
    "name": "ipython",
    "version": 3
   },
   "file_extension": ".py",
   "mimetype": "text/x-python",
   "name": "python",
   "nbconvert_exporter": "python",
   "pygments_lexer": "ipython3",
   "version": "3.11.9"
  }
 },
 "nbformat": 4,
 "nbformat_minor": 2
}
