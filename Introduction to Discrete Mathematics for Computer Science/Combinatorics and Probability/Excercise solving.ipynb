{
 "cells": [
  {
   "cell_type": "markdown",
   "metadata": {},
   "source": [
    "How many integer numbers from 1 to  1000 are divisible by 2 or by 3?"
   ]
  },
  {
   "cell_type": "code",
   "execution_count": 2,
   "metadata": {},
   "outputs": [
    {
     "name": "stdout",
     "output_type": "stream",
     "text": [
      "There are 667 numbers divisible by 2 or 3 between 1 and 1000\n"
     ]
    }
   ],
   "source": [
    "div2 = {i for i in range(1,1001) if i%2==0}\n",
    "div3 = {i for i in range(1,1001) if i%3==0}\n",
    "\n",
    "joinset = div2 | div3\n",
    "\n",
    "print(f'There are {len(joinset)} numbers divisible by 2 or 3 between 1 and 1000')"
   ]
  },
  {
   "cell_type": "markdown",
   "metadata": {},
   "source": [
    "How many integer numbers from 1 to  1000 are not divisible neither by 2, nor by 3?    "
   ]
  },
  {
   "cell_type": "code",
   "execution_count": 4,
   "metadata": {},
   "outputs": [
    {
     "name": "stdout",
     "output_type": "stream",
     "text": [
      "There are 333 numbers that are not divisible neither by 2 nor by 3 between 1 and 1000\n"
     ]
    }
   ],
   "source": [
    "bigset = {i for i in range(1,1001)}\n",
    "\n",
    "diff_set = bigset - joinset\n",
    "\n",
    "print(f'There are {len(diff_set)} numbers that are not divisible neither by 2 nor by 3 between 1 and 1000')"
   ]
  },
  {
   "cell_type": "markdown",
   "metadata": {},
   "source": [
    "What is the number of 5-symbol passwords where each symbol is one of the 26 lower case Latin letters?"
   ]
  },
  {
   "cell_type": "code",
   "execution_count": 8,
   "metadata": {},
   "outputs": [
    {
     "name": "stdout",
     "output_type": "stream",
     "text": [
      "There is a total of 11881376 of 5-symbol Latin letters password\n"
     ]
    }
   ],
   "source": [
    "print(f'There is a total of {26**5} of 5-symbol Latin letters password')"
   ]
  },
  {
   "cell_type": "markdown",
   "metadata": {},
   "source": [
    "Linguists are studying texts in some ancient language with 25 letters. They want to compute how often different 3-letter combinations occur in texts in this language. For this they first need to list all 3-letter combinations. How many combinations will they have?"
   ]
  },
  {
   "cell_type": "code",
   "execution_count": 12,
   "metadata": {},
   "outputs": [
    {
     "name": "stdout",
     "output_type": "stream",
     "text": [
      "There is a total of 15625 of 3-symbol combinations from a 25 letters language\n"
     ]
    }
   ],
   "source": [
    "print(f'There is a total of {25*25*25} of 3-symbol combinations from a 25 letters language')"
   ]
  },
  {
   "cell_type": "markdown",
   "metadata": {},
   "source": [
    "Suppose a license plate format contains a block of two digits followed by a block of two letters (26 choices) followed by a block of two digits. What is the number of different license plates?"
   ]
  },
  {
   "cell_type": "code",
   "execution_count": 13,
   "metadata": {},
   "outputs": [
    {
     "name": "stdout",
     "output_type": "stream",
     "text": [
      "There is a total of 6760000 different license plates\n"
     ]
    }
   ],
   "source": [
    "print(f'There is a total of {10*10*26*26*10*10} different license plates')"
   ]
  },
  {
   "cell_type": "markdown",
   "metadata": {},
   "source": [
    "A board of 15 people has to pick a chairman of the board, a vice-chairman and a secretary among themselves. All three should be different persons. How many ways do they have to do it?"
   ]
  },
  {
   "cell_type": "code",
   "execution_count": 15,
   "metadata": {},
   "outputs": [
    {
     "name": "stdout",
     "output_type": "stream",
     "text": [
      "There are a total of 2730 different ways how the 3 people can be chosen\n"
     ]
    }
   ],
   "source": [
    "print(f'There are a total of {15*14*13} different ways how the 3 people can be chosen')"
   ]
  },
  {
   "cell_type": "markdown",
   "metadata": {},
   "source": [
    "There are five different tables in the class and five students. Each table can be occupied by only one student. Their studying year consists of 200 days. As a small prank on their teacher students would like to sit in a new way every day, so there are no two days during their studying year such that all students are occupying the same tables. They would like to see whether this is possible. How many ways are there for them to sit in the class?"
   ]
  },
  {
   "cell_type": "code",
   "execution_count": 19,
   "metadata": {},
   "outputs": [
    {
     "name": "stdout",
     "output_type": "stream",
     "text": [
      "There are 120 different ways how students can sit in the class\n"
     ]
    }
   ],
   "source": [
    "def factorial(n):\n",
    "    return n*factorial(n-1) if n>0 else 1\n",
    "\n",
    "print(f'There are {factorial(5)} different ways how students can sit in the class')"
   ]
  },
  {
   "cell_type": "markdown",
   "metadata": {},
   "source": [
    "How many integer numbers between 0 and 9999 are there that have exactly one digit 1 and exactly one digit 3?"
   ]
  },
  {
   "cell_type": "code",
   "execution_count": 33,
   "metadata": {},
   "outputs": [
    {
     "name": "stdout",
     "output_type": "stream",
     "text": [
      "There are 768 integers between 0 and 9999 that have exactly one digit 1 and exactly one digit 3\n"
     ]
    }
   ],
   "source": [
    "#For the different positions for number 1 and 3\n",
    "perm  = factorial(4)//factorial(4-2)\n",
    "#For the different selection of the other digits\n",
    "n = perm * (1*1*8*8)\n",
    "print(f'There are {n} integers between 0 and 9999 that have exactly one digit 1 and exactly one digit 3')"
   ]
  }
 ],
 "metadata": {
  "kernelspec": {
   "display_name": "Python 3",
   "language": "python",
   "name": "python3"
  },
  "language_info": {
   "codemirror_mode": {
    "name": "ipython",
    "version": 3
   },
   "file_extension": ".py",
   "mimetype": "text/x-python",
   "name": "python",
   "nbconvert_exporter": "python",
   "pygments_lexer": "ipython3",
   "version": "3.11.9"
  }
 },
 "nbformat": 4,
 "nbformat_minor": 2
}
