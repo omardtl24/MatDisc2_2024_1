{
 "cells": [
  {
   "cell_type": "markdown",
   "metadata": {},
   "source": [
    "## Optimize"
   ]
  },
  {
   "cell_type": "markdown",
   "metadata": {},
   "source": [
    "There are 90 cards with all two-digit numbers on them:\n",
    "$$10,11,12,…,98,99.$$\n",
    "\n",
    "A player takes some of these cards simultaneously. For each card taken she gets $1. However, if the player takes two cards that add up to 100 (say, 23 and 77), she loses all the money. How much could she get? \n",
    "\n",
    "In mathematical language: What is the maximum number of two-digit integers (10,11,...,99) that one can select satisfying the following condition: no two different selected integers have sum 100?"
   ]
  },
  {
   "cell_type": "code",
   "execution_count": 2,
   "metadata": {},
   "outputs": [],
   "source": [
    "pairs = [(i,j) for i in range(10,100) for j in range(i+1,100)]\n",
    "invalidvalid_pairs = [pair for pair in pairs if sum(pair)==100]\n",
    "totalinvalid = len(invalidvalid_pairs)"
   ]
  },
  {
   "cell_type": "code",
   "execution_count": 3,
   "metadata": {},
   "outputs": [
    {
     "name": "stdout",
     "output_type": "stream",
     "text": [
      "Maximum pairing: 50\n"
     ]
    }
   ],
   "source": [
    "print(f'Maximum pairing: {90-totalinvalid}')"
   ]
  },
  {
   "cell_type": "markdown",
   "metadata": {},
   "source": [
    "Choose the maximal number of integers among 1..50 that can be selected if we are not allowed to select n and 2n at at same time."
   ]
  },
  {
   "cell_type": "code",
   "execution_count": 4,
   "metadata": {},
   "outputs": [
    {
     "name": "stdout",
     "output_type": "stream",
     "text": [
      "It can be selected a maximal amount of 33 numbers\n"
     ]
    }
   ],
   "source": [
    "map = [None for i in range(50)]\n",
    "for i in range(50,0,-1):\n",
    "    if map[i-1] is None:\n",
    "        if i % 2 == 0:\n",
    "            map[i//2 - 1] = 1\n",
    "            map[i-1] = 0\n",
    "        else:\n",
    "            map[i-1] = 1\n",
    "    \n",
    "total = sum(map)\n",
    "print(f'It can be selected a maximal amount of {total} numbers')\n"
   ]
  },
  {
   "cell_type": "markdown",
   "metadata": {},
   "source": [
    "Modify the code considered in the lectures to find out the number of solutions to the 8 queens puzzle. For example, as was explained in the videos, for the 4 queens puzzle there are 2 solutions."
   ]
  },
  {
   "cell_type": "code",
   "execution_count": 5,
   "metadata": {},
   "outputs": [
    {
     "name": "stdout",
     "output_type": "stream",
     "text": [
      "The 8 queen problem has 92 solutions\n"
     ]
    }
   ],
   "source": [
    "import itertools as it\n",
    "\n",
    "def is_solution(perm):\n",
    "    for (i1, i2) in it.combinations(range(len(perm)), 2):\n",
    "        if abs(i1 - i2) == abs(perm[i1] - perm[i2]):\n",
    "            return False\n",
    "\n",
    "    return True\n",
    "count = 0\n",
    "for perm in it.permutations(range(8)):\n",
    "    if is_solution(perm):\n",
    "        count +=1\n",
    "\n",
    "print(f'The 8 queen problem has {count} solutions')"
   ]
  },
  {
   "cell_type": "markdown",
   "metadata": {},
   "source": [
    "## Recursion"
   ]
  },
  {
   "cell_type": "markdown",
   "metadata": {},
   "source": [
    "Imagine we have only 5- and 7-coins. One can prove that any large enough integer amount can be paid using only such coins. Yet clearly we cannot pay any of numbers 1, 2, 3, 4, 6, 8, 9 with our coins. What is the maximum amount that cannot be paid?\n",
    "\n"
   ]
  },
  {
   "cell_type": "code",
   "execution_count": 6,
   "metadata": {},
   "outputs": [
    {
     "name": "stdout",
     "output_type": "stream",
     "text": [
      "Max value was 23\n"
     ]
    }
   ],
   "source": [
    "def coins(amount):\n",
    "    if amount<0: return None\n",
    "    if amount==5 or amount==7:\n",
    "        return [amount]\n",
    "   \n",
    "    try7 = coins(amount-7)\n",
    "    if try7 is not None:\n",
    "        try7.append(7)\n",
    "        return try7\n",
    "    try5 = coins(amount-5)\n",
    "    if try5 is not None:\n",
    "        try5.append(5)\n",
    "        return try5\n",
    "    \n",
    "    return None\n",
    "\n",
    "for i in range(100):\n",
    "    if coins(i) is None:\n",
    "        max = i\n",
    "\n",
    "print(f'Max value was {max}')"
   ]
  },
  {
   "cell_type": "markdown",
   "metadata": {},
   "source": [
    "# Project - Programming 15-Puzzle"
   ]
  },
  {
   "cell_type": "markdown",
   "metadata": {},
   "source": [
    "This task (solving the 15-puzzle) contains  several parts. To find whether a solution exists, we need to know whether a given permutation is even."
   ]
  },
  {
   "cell_type": "code",
   "execution_count": 10,
   "metadata": {},
   "outputs": [
    {
     "name": "stdout",
     "output_type": "stream",
     "text": [
      "True\n",
      "False\n",
      "False\n"
     ]
    }
   ],
   "source": [
    "def counting_transpositions(perm):\n",
    "    n = len(perm)\n",
    "    c=0\n",
    "    for i in range(n):\n",
    "        for j in range(i+1,n):\n",
    "            if perm[i]>perm[j]:\n",
    "                c+=1\n",
    "    return c\n",
    "\n",
    "def is_permutation(p):\n",
    "  return (set(p)==set(range(len(p))))\n",
    "\n",
    "def is_even_permutation(perm):\n",
    "    return is_permutation(perm) and counting_transpositions(perm)%2==0\n",
    "\n",
    "\n",
    "print (is_even_permutation([0,1,2,3,4,5,6,7,8,9,10,11,12,13,14,15]))\n",
    "print (is_even_permutation([0,2,1]))\n",
    "print (is_even_permutation([1,2,3]))"
   ]
  },
  {
   "cell_type": "markdown",
   "metadata": {},
   "source": [
    "Write a Python function solution(position) that gets a (solvable) position in 15-puzzle and outputs a sequence of moves that transforms it to a standard position.\n",
    "\n",
    "<details>\n",
    "  <summary><b>Hint used</b></summary>\n",
    "  \n",
    "  Write a search algorithm that just looks for this solution by trying all the paths. However, the search should be optimized: at each step of the search we try to extend some sequence of operations (as we did with backtracking for queens), and try all the one-step extensions in some order. To make search feasible, one should be careful about this order: the heuristic is to consider first the position that has a smaller \"distance\" to the desired position. Here the distance could be measured by the sum of distances between current and desirable positions of each piece. (The distance is measured by the number of moves needed to get from one position to the other; it is often called Manhattan distance.) My friend (Stanislav Shalunov) showed be a program of this type (using python tools for priority queues); it is much shorted (less that hundred lines instead of almost four hundred) than the program that uses the approach discussed earlier; it also gives solutions with much smaller number of moves (hundreds instead of thousands), but for some configuration it takes more time (due to the exponential nature of search algorithms in general)\n",
    "  \n",
    "</details>\n"
   ]
  },
  {
   "cell_type": "code",
   "execution_count": 8,
   "metadata": {},
   "outputs": [
    {
     "data": {
      "text/plain": [
       "[15, 14, 10, 13, 9, 10, 14, 15]"
      ]
     },
     "execution_count": 8,
     "metadata": {},
     "output_type": "execute_result"
    }
   ],
   "source": [
    "import heapq\n",
    "\n",
    "goal_state = (1, 2, 3, 4, 5, 6, 7, 8, 9, 10, 11, 12, 13, 14, 15, 0)\n",
    "map = {(i+1)%16 :i for i in range(16)}\n",
    "\n",
    "def apply_map(position):\n",
    "    return [map[i] for i in position]\n",
    "\n",
    "moves = {\n",
    "    \"left\": -1,\n",
    "    \"right\": 1,\n",
    "    \"up\": -4,\n",
    "    \"down\": 4\n",
    "}\n",
    "\n",
    "#Checks if move is possible\n",
    "def can_move(empty_pos, direction):\n",
    "    if direction == \"left\" and empty_pos % 4 == 0:\n",
    "        return False\n",
    "    if direction == \"right\" and empty_pos % 4 == 3:\n",
    "        return False\n",
    "    if direction == \"up\" and empty_pos < 4:\n",
    "        return False\n",
    "    if direction == \"down\" and empty_pos > 11:\n",
    "        return False\n",
    "    return True\n",
    "\n",
    "#Move piece to the desired position\n",
    "def move_tile(position, empty_pos, direction):\n",
    "    if can_move(empty_pos, direction):\n",
    "        new_pos = empty_pos + moves[direction]\n",
    "        new_position = list(position)\n",
    "        new_position[empty_pos], new_position[new_pos] = new_position[new_pos], new_position[empty_pos]\n",
    "        return tuple(new_position), new_pos\n",
    "    return position, empty_pos\n",
    "\n",
    "#Gets Manhattan distance\n",
    "def manhattan_distance(position):\n",
    "    distance = 0\n",
    "    for i in range(16):\n",
    "        if position[i] != 0:\n",
    "            target_pos = position[i] - 1\n",
    "            distance += abs(target_pos // 4 - i // 4) + abs(target_pos % 4 - i % 4)\n",
    "    return distance\n",
    "\n",
    "# Global variables to store paths and configurations\n",
    "global_paths = []\n",
    "explored_configurations = {}\n",
    "\n",
    "#Solution by applying A* search\n",
    "def solution(initial_position):\n",
    "    global global_paths\n",
    "    global explored_configurations\n",
    "\n",
    "    assert is_even_permutation(apply_map(initial_position))==True\n",
    "\n",
    "    if type(initial_position)==list: initial_position = tuple(initial_position)\n",
    "    frontier = []\n",
    "    heapq.heappush(frontier, (0 + manhattan_distance(initial_position), 0, initial_position, []))\n",
    "    explored = set()\n",
    "\n",
    "    while frontier:\n",
    "        _, cost, position, path = heapq.heappop(frontier)\n",
    "\n",
    "        if position in explored:\n",
    "            continue\n",
    "\n",
    "        explored.add(position)\n",
    "\n",
    "        if position == goal_state:\n",
    "            global_paths.append(path)\n",
    "            explored_configurations[position] = path\n",
    "            return path\n",
    "\n",
    "        empty_pos = position.index(0)\n",
    "\n",
    "        for direction in [\"left\", \"right\", \"up\", \"down\"]:\n",
    "            new_position, new_empty_pos = move_tile(position, empty_pos, direction)\n",
    "\n",
    "            if new_position != position and new_position not in explored:\n",
    "                new_path = path + [new_position[empty_pos]]\n",
    "                heapq.heappush(frontier, (cost + 1 + manhattan_distance(new_position), cost + 1, new_position, new_path))\n",
    "\n",
    "        # Store explored configuration with its path\n",
    "        if position not in explored_configurations:\n",
    "            explored_configurations[position] = path\n",
    "\n",
    "    return None\n",
    "\n",
    "\n",
    "initial_position = [1,2,3, 4, 5, 6, 7, 8, 13, 9, 11,12, 10, 14, 15, 0]\n",
    "solution(initial_position)\n"
   ]
  }
 ],
 "metadata": {
  "kernelspec": {
   "display_name": "Python 3",
   "language": "python",
   "name": "python3"
  },
  "language_info": {
   "codemirror_mode": {
    "name": "ipython",
    "version": 3
   },
   "file_extension": ".py",
   "mimetype": "text/x-python",
   "name": "python",
   "nbconvert_exporter": "python",
   "pygments_lexer": "ipython3",
   "version": "3.11.9"
  }
 },
 "nbformat": 4,
 "nbformat_minor": 2
}
