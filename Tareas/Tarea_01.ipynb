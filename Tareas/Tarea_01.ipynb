{
 "cells": [
  {
   "cell_type": "markdown",
   "metadata": {},
   "source": [
    "**DESARROLLO TAREA 1 MATEMÁTICAS DISCRETAS 2 - 2024-1**\n",
    "\n",
    "**Profesor:** Arles Ernesto Rodríguez Portela\n",
    "\n",
    "**Estudiante:** Omar David Toledo Leguizamón"
   ]
  },
  {
   "cell_type": "markdown",
   "metadata": {},
   "source": [
    "# Tarea 1\n",
    "\n",
    "Determinar si la operación $⋆$ es una operación binaria sobre el conjunto dado $S$:\n",
    "\n",
    "a. $S = \\mathbb{R}$ , $a⋆b = \\dfrac{a}{a^2 + b^2}$\n",
    "\n",
    "b. $S = \\{1,-2,3,2,-4\\}$ , $a⋆b = |b|$\n",
    "\n",
    "c. $S = \\mathbb{R}$ , $a⋆b = a$"
   ]
  },
  {
   "cell_type": "markdown",
   "metadata": {},
   "source": [
    "## Desarrollo"
   ]
  },
  {
   "cell_type": "markdown",
   "metadata": {},
   "source": [
    "### a. $S = \\mathbb{R}$ , $a⋆b = \\dfrac{a}{a^2 + b^2}$"
   ]
  },
  {
   "cell_type": "markdown",
   "metadata": {},
   "source": [
    "**Contraejemplo**\n",
    "\n",
    "Vamos a definir dos valores $a,b \\in \\mathbb{R}$\n",
    "\n",
    "$$0 \\in \\mathbb{R} \\,\\, \\wedge  \\,\\, a=b=0 \\,\\, \\Longrightarrow a,b \\in \\mathbb{R}$$\n",
    "\n",
    "Aplicamos nuestra operación $a⋆b$\n",
    "\n",
    "$$a⋆b = 0⋆0 = \\dfrac{0}{0^2 + 0^2} = \\dfrac{0}{0} \\notin \\mathbb{R} \\Longrightarrow a⋆b \\notin \\mathbb{R}$$\n",
    "\n",
    "Encontramos una pareja $(a,b) \\in \\mathbb{R} \\times \\mathbb{R}$ tal que $a⋆b \\notin \\mathbb{R}$\n",
    "\n",
    "$$\\therefore ⋆ \\text{ NO es una operación binaria}$$"
   ]
  },
  {
   "cell_type": "markdown",
   "metadata": {},
   "source": [
    "### b. $S = \\{1,-2,3,2,-4\\}$ , $a⋆b = |b|$"
   ]
  },
  {
   "cell_type": "markdown",
   "metadata": {},
   "source": [
    "Dado que tenemos un conjunto finito, podemos realizar todas las operaciones sin problema. Por practicidad, vamos a organizarlo en una tabla de $n \\times n$ donde $n = |S|$\n",
    "\n",
    "Siendo $a$ el valor de la fila y $b$ el valor de la columna, la siguiente tabla tiene los resultados de la operación $a⋆b$\n",
    "\n",
    "\\begin{array}{|r|c|c|c|c|c|}\n",
    "    \\hline\n",
    "     S \\times S & \\textbf{1} & \\textbf{-2} & \\textbf{3} & \\textbf{2} & \\textbf{-4} \\\\\n",
    "    \\hline\n",
    "    \\textbf{1} & 1 & 2 & 3 & 2 & 4 \\\\\n",
    "    \\hline\n",
    "    \\textbf{-2} & 1 & 2 & 3 & 2 & 4 \\\\\n",
    "    \\hline\n",
    "    \\textbf{3} & 1 & 2 & 3 & 2 & 4 \\\\\n",
    "    \\hline\n",
    "    \\textbf{2} & 1 & 2 & 3 & 2 & 4 \\\\\n",
    "    \\hline\n",
    "    \\textbf{-4} & 1 & 2 & 3 & 2 & 4 \\\\\n",
    "    \\hline\n",
    "\\end{array}\n",
    "\n",
    "Podemos denotar que en la quinta columna (Asociada a $b=-4$) obtenemos un resultado que no está en el conjunto original $S$\n",
    "\n",
    "$$a⋆ -4 = 4 \\notin S \\,\\,\\,\\, \\forall a \\in S$$\n",
    "\n",
    "$$\\therefore ⋆ \\text{ NO es una operación binaria}$$"
   ]
  },
  {
   "cell_type": "markdown",
   "metadata": {},
   "source": [
    "### c. $S = \\mathbb{R}$ , $a⋆b = a$"
   ]
  },
  {
   "cell_type": "markdown",
   "metadata": {},
   "source": [
    "No es necesario ser muy metódicos ni formales para denotar que si se tiene por precondición que los operandos $a$ y $b$ pertenecen al conjunto $S$ y el resultado de la operación es uno de esos mismos operandos (En este caso $a$), se puede concluir que $a⋆b$ tambien pertenece al conjunto $S$\n",
    "\n",
    "$$a,b \\in S \\,\\, \\wedge \\,\\, a⋆b = a \\Longrightarrow a⋆b \\in S$$\n",
    "\n",
    "$$\\therefore ⋆ \\text{ SI es una operación binaria}$$\n"
   ]
  }
 ],
 "metadata": {
  "language_info": {
   "name": "python"
  }
 },
 "nbformat": 4,
 "nbformat_minor": 2
}
