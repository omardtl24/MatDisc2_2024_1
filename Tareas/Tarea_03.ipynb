{
 "cells": [
  {
   "cell_type": "markdown",
   "metadata": {},
   "source": [
    "**DESARROLLO TAREA 3 MATEMÁTICAS DISCRETAS 2 - 2024-1**\n",
    "\n",
    "**Profesor:** Arles Ernesto Rodríguez Portela\n",
    "\n",
    "**Estudiante:** Omar David Toledo Leguizamón"
   ]
  },
  {
   "cell_type": "markdown",
   "metadata": {},
   "source": [
    "# Tarea 3\n",
    "\n",
    "Dado un grupo $(G,⋆)$, y teniendo que $x,y,z \\in G$ demuestre que:\n",
    "\n",
    "a.  Si $x⋆y = x⋆z$, entonces $y=z$ (Ley de cancelación por izquierda)\n",
    "\n",
    "b.  Si $y⋆x = z⋆x$, entonces $y=z$ (Ley de cancelación por derecha)"
   ]
  },
  {
   "cell_type": "markdown",
   "metadata": {},
   "source": [
    "## Desarrollo\n",
    "\n",
    "### a.  Si $x⋆y = x⋆z$, entonces $y=z$ (Ley de cancelación por izquierda)\n",
    "\n",
    "Para realizar nuestra demostración, vamos a partir de nuestra hipótesis, la cual dice que $x⋆y = x⋆z$, y usaremos las propiedades básicas de los grupos para concluir que $y=z$\n",
    "\n",
    "\\begin{array}{rclcr}\n",
    "    x⋆y &=& x⋆z && \\text{Hipótesis Inicial} \\\\\n",
    "    x^{-1} ⋆ (x⋆y) &=& x^{-1} ⋆ (x⋆z) && \\text{Operamos a ambos lados por el inverso de } x \\\\\n",
    "    (x^{-1} ⋆ x) ⋆y  &=& (x^{-1} ⋆ x)⋆z && \\text{Propiedad Asociativa} \\\\\n",
    "    e ⋆y  &=& e ⋆z && \\text{Aplicamos definición de Inversa} \\\\\n",
    "    y &=& z && \\text{Aplicamos definición de Identidad} \\\\\n",
    "\\end{array}\n",
    "\n",
    "Podemos concluir que:\n",
    "\n",
    "$$\\therefore \\forall_{x,y,z \\in (G,⋆)} \\,\\, (x⋆y = x⋆z \\Longrightarrow y=z)$$\n",
    "\n",
    "\n",
    "### b.  Si $y⋆x = z⋆x$, entonces $y=z$ (Ley de cancelación por derecha)\n",
    "\n",
    "Para realizar nuestra demostración, vamos a partir de nuestra hipótesis, la cual dice que $y⋆x = z⋆x$, y usaremos las propiedades básicas de los grupos para concluir que $y=z$\n",
    "\n",
    "\\begin{array}{rclcr}\n",
    "    y⋆x &= &z⋆x && \\text{Hipótesis Inicial} \\\\\n",
    "    (y⋆x) ⋆ x^{-1} &=& (z⋆x) ⋆ x^{-1} && \\text{Operamos a ambos lados por el inverso de } x \\\\\n",
    "    y⋆(x ⋆ x^{-1})& = &z⋆(x ⋆ x^{-1}) && \\text{Propiedad Asociativa} \\\\\n",
    "    y ⋆e  &=& z ⋆e && \\text{Aplicamos definición de Inversa} \\\\\n",
    "    y &=& z && \\text{Aplicamos definición de Identidad} \\\\\n",
    "\\end{array}\n",
    "\n",
    "Podemos concluir que:\n",
    "\n",
    "$$\\therefore \\forall_{x,y,z \\in (G,⋆)} \\,\\, (y⋆x = z⋆x \\Longrightarrow y=z)$$"
   ]
  }
 ],
 "metadata": {
  "language_info": {
   "name": "python"
  }
 },
 "nbformat": 4,
 "nbformat_minor": 2
}
