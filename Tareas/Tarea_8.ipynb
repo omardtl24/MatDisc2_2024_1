{
 "cells": [
  {
   "cell_type": "markdown",
   "metadata": {},
   "source": [
    "**DESARROLLO TAREA 8 MATEMÁTICAS DISCRETAS 2 - 2024-1**\n",
    "\n",
    "**Profesor:** Arles Ernesto Rodríguez Portela\n",
    "\n",
    "**Estudiante:** Omar David Toledo Leguizamón"
   ]
  },
  {
   "cell_type": "markdown",
   "metadata": {},
   "source": [
    "# Tarea 8\n",
    "\n",
    "1. Dado $G= (Z_{48},\\oplus) $ , encuentre $[G:H]$ para $H= \\langle 32 \\rangle$\n",
    "\n",
    "2. Dado $G= (Z_{2} \\times Z_{4},\\oplus)$ , calcule $[G:H]$ para $H= \\langle (1,1) \\rangle$\n",
    "\n",
    "3. Dado un grupo $G$ de orden $8$, que **NO** es cíclico, demuestre que $a^{4}=e$ para todo $a \\in G$"
   ]
  },
  {
   "cell_type": "markdown",
   "metadata": {},
   "source": [
    "## Desarrollo\n",
    "\n",
    "### 1. Dado $G= (Z_{48},\\oplus) $ , encuentre $[G:H]$ para $H= \\langle 32 \\rangle$\n",
    "\n",
    "Para determinar el índice del subgrupo $H$ ($[G:H]$). Vamos a aprovechar la relación descrita por el Teorema de Lagrange; el cual nos dice:\n",
    "\n",
    "$$|G| = [G : H] \\cdot |H| \\,\\,\\, \\Longrightarrow \\,\\,\\, [G : H] = \\dfrac{|G|}{|H|}$$\n",
    "\n",
    "Por consiguiente, nuestro paso a seguir será determinar la cardinalidad del grupo $G$ y la cardinalidad del subgrupo $H$.\n",
    "\n",
    "La cardinalidad del grupo $G$ es fácil de determinar al ser un grupo cíclico cerrado sobre la operación módulo $48$.\n",
    "\n",
    "$$G = (Z_{48},\\oplus) \\,\\,\\, \\Longrightarrow \\,\\,\\, |G| = 48$$\n",
    "\n",
    "Para determinar la cardinalidad del subgrupo $H$, vamos a aprovechar la relación entre la cardinalidad y el orden del generador.\n",
    "\n",
    "$$H = \\langle 32 \\rangle \\,\\,\\, \\Longrightarrow \\,\\,\\, |H| = o(32)$$\n",
    "\n",
    "$$o(32) = \\dfrac{48}{(48,32)} = \\dfrac{48}{16} = 3 \\,\\,\\, \\Longrightarrow \\,\\,\\, |H| = 3$$\n",
    "\n",
    "Finalmente, ya tenemos la información necesaria para determinar el índice del subgrupo:\n",
    "\n",
    "$$[G : H] = \\dfrac{|G|}{|H|} \\,\\, \\wedge \\,\\, |H| = 3 \\,\\, \\wedge \\,\\, |G| = 48 \\,\\,\\, \\Longrightarrow \\,\\,\\, [G : H] = \\dfrac{48}{3} = 16$$\n",
    "\n",
    "Se puede concluir:\n",
    "\n",
    "$$\\therefore G= (Z_{48},\\oplus) \\,\\, \\wedge \\,\\, H= \\langle 32 \\rangle \\,\\, \\Longrightarrow \\,\\, [G:H]=16$$"
   ]
  },
  {
   "cell_type": "markdown",
   "metadata": {},
   "source": []
  }
 ],
 "metadata": {
  "language_info": {
   "name": "python"
  }
 },
 "nbformat": 4,
 "nbformat_minor": 2
}
