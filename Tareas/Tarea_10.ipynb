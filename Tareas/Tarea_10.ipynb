{
 "cells": [
  {
   "cell_type": "markdown",
   "metadata": {},
   "source": [
    "**DESARROLLO TAREA 10 MATEMÁTICAS DISCRETAS 2 - 2024-1**\n",
    "\n",
    "**Profesor:** Arles Ernesto Rodríguez Portela\n",
    "\n",
    "**Estudiante:** Omar David Toledo Leguizamón"
   ]
  },
  {
   "cell_type": "markdown",
   "metadata": {},
   "source": [
    "# Tarea 10\n",
    "\n",
    "Dado $f:G \\rightarrow G$ definido como $f(x)=x^{−1}$, demuestre que si $G$ es abeliano, entonces $f$ es un homomorfismo."
   ]
  },
  {
   "cell_type": "markdown",
   "metadata": {},
   "source": [
    "# Desarrollo"
   ]
  },
  {
   "cell_type": "markdown",
   "metadata": {},
   "source": [
    "\n",
    "### Dado $f:G \\rightarrow G$ definido como $f(x)=x^{−1}$, demuestre que si $G$ es abeliano, entonces $f$ es un homomorfismo.\n"
   ]
  },
  {
   "cell_type": "markdown",
   "metadata": {},
   "source": [
    "Con el fin de determinar si $f$ es un homomorfismo, debemos ser capaces de demostrar que:\n",
    "\n",
    "$$x,y \\in G \\quad \\Longrightarrow \\quad f(x \\, y)=f(x) \\, f(y)$$\n",
    "\n",
    "Vamos a aprovechar que nuestro grupo es abeliano, lo que es equivalente a decir:\n",
    "\n",
    "$$x,y \\in G \\quad \\Longrightarrow \\quad  x \\, y = y \\, x$$\n",
    "\n",
    "Para ello, vamos a suponer dos elementos del grupo $G$ junto a sus respectivas imagenes en el conjunto de llegada de la función $f$\n",
    "\n",
    "$$x,y \\in G \\quad \\Longrightarrow \\quad f(x)=x^{-1} \\,\\, \\wedge \\,\\, f(y)=y^{-1}$$\n",
    "\n",
    "Aplicaremos la función sobre la operación sobre los elementos que definimos y aplicaremos las diferentes propiedades que disponemos.\n",
    "\n",
    "$$\n",
    "\\begin{array}{cclcr}\n",
    "    f(x \\, y) & = & (x \\, y)^{-1} & & \\text{Operación definida para }f(x) \\\\\n",
    "              & = & y^{-1} \\, x^{-1} & & \\text{Propiedad de inversos} \\\\\n",
    "              & = & x^{-1} \\, y^{-1} & & \\text{Propiedad conmutativa (Abeliano)} \\\\\n",
    "              & = & f(x) \\, f(y) & & \\text{Operación definida para }f(x)\n",
    "\\end{array}\n",
    "$$\n",
    "\n",
    "Dado que pudimos demostrar la propiedad descrita, podemos concluir:\n",
    "\n",
    "$$\\therefore f \\text{ es un}\\textbf{ homomorfismo}$$"
   ]
  }
 ],
 "metadata": {
  "language_info": {
   "name": "python"
  }
 },
 "nbformat": 4,
 "nbformat_minor": 2
}
