{
 "cells": [
  {
   "cell_type": "markdown",
   "metadata": {},
   "source": [
    "**DESARROLLO TAREA 7 MATEMÁTICAS DISCRETAS 2 - 2024-1**\n",
    "\n",
    "**Profesor:** Arles Ernesto Rodríguez Portela\n",
    "\n",
    "**Estudiante:** Omar David Toledo Leguizamón"
   ]
  },
  {
   "cell_type": "markdown",
   "metadata": {},
   "source": [
    "# Tarea 7\n",
    "\n",
    "1. Encuentre el orden de:\n",
    "\n",
    "a. $(4,9)$ en $\\mathbb{Z}_{18} \\times \\mathbb{Z}_{18}$\n",
    "\n",
    "b. $(7,5)$ en $\\mathbb{Z}_{12} \\times \\mathbb{Z}_{8}$\n",
    "\n",
    "c. $(8,6,4)$ en $\\mathbb{Z}_{18} \\times \\mathbb{Z}_{9} \\times \\mathbb{Z}_{8}$\n",
    "\n",
    "\n",
    "2. Determine si los siguientes productos de grupos son cíclicos:\n",
    "\n",
    "a. $\\mathbb{Z}_{12} \\times \\mathbb{Z}_{9}$\n",
    "\n",
    "b. $\\mathbb{Z}_{4} \\times \\mathbb{Z}_{25} \\times \\mathbb{Z}_{6}$\n",
    "\n",
    "c. $\\mathbb{Z}_{22} \\times \\mathbb{Z}_{21} \\times \\mathbb{Z}_{65}$\n",
    " \n",
    "\n"
   ]
  },
  {
   "cell_type": "markdown",
   "metadata": {},
   "source": [
    "### Definición algoritmo de Euclides en Python"
   ]
  },
  {
   "cell_type": "code",
   "execution_count": 23,
   "metadata": {},
   "outputs": [],
   "source": [
    "def mcd(a,b,printing=False):\n",
    "    '''\n",
    "    Calcula el máximo común divisor entre a y b\n",
    "\n",
    "    Parámetros:\n",
    "\n",
    "        a (int) : Primer número de la pareja (Preferiblemente el mayor)\n",
    "        b (int) : Segundo número de la pareja (Preferiblemente el menor)\n",
    "        printing (bool) : Booleano para definir si se imprime el paso a \n",
    "                          paso del algoritmo\n",
    "\n",
    "    Retorna:\n",
    "\n",
    "        El máximo común divisor entre a y b\n",
    "    '''\n",
    "    #Definicion de valor absoluto para casos donde hayan negativos\n",
    "    if a<0 or b<0: return mcd(abs(a),abs(b),printing)\n",
    "\n",
    "    #Intercambia valores si a<b\n",
    "    if a<b: return mcd(b,a,printing)\n",
    "\n",
    "    #Retorna mcd (Condición de parada)\n",
    "    if b==0: return a\n",
    "\n",
    "    #Impresiones guía\n",
    "    if printing: print(f'{a} = {a//b} * {b} + {a%b}')\n",
    "\n",
    "    #Definición del algoritmo\n",
    "    #   m = q * n + r   --->  (m,n) = (n,r) \n",
    "    return mcd(b,a%b,printing)"
   ]
  },
  {
   "cell_type": "markdown",
   "metadata": {},
   "source": [
    "# Desarrollo\n",
    "\n",
    "### 1. Encuentre el orden de:\n",
    "\n",
    "Para hallar el orden de los elementos de un producto de grupos, debemos aprovechar la relación que existe entre los ordenes de cada elemento en su grupo y el mínimo común múltiplo:\n",
    "\n",
    "$$o((g_1,g_2,g_3,...,g_i)) = \\text{mcm}(o(g_1),o(g_2),o(g_3),...,o(g_i))$$\n",
    "\n",
    "Adicionalmente, vamos a aprovechar la propiedad asociativa del mínimo común múltiplo:\n",
    "\n",
    "$$\\text{mcm}(a,b,c) = \\text{mcm}(a,\\text{mcm}(b,c)) = \\text{mcm}(\\text{mcm}(a,b),c)$$"
   ]
  },
  {
   "cell_type": "code",
   "execution_count": 24,
   "metadata": {},
   "outputs": [],
   "source": [
    "def mcm(a,b):\n",
    "    '''\n",
    "    Calcula el mínimo común múltiplo entre a y b\n",
    "\n",
    "    Parámetros:\n",
    "\n",
    "        a (int) : Primer número de la pareja\n",
    "        b (int) : Segundo número de la pareja\n",
    "\n",
    "    Retorna:\n",
    "\n",
    "        El mínimo común múltiplo entre a y b\n",
    "    '''\n",
    "    #Devuelve el minimo comun multiplo a través del cociente\n",
    "    #entre a * b y el máximo común divisor de a y b\n",
    "    return (a*b)//mcd(a,b)"
   ]
  },
  {
   "cell_type": "markdown",
   "metadata": {},
   "source": [
    "##### a. $(4,9)$ en $\\mathbb{Z}_{18} \\times \\mathbb{Z}_{18}$\n",
    "\n",
    "El primer paso es calcular es calcular el orden de cada elemento en su respectivo grupo de origen.\n",
    "\n",
    "El orden de $4$ en $\\mathbb{Z}_{18}$:\n",
    "\n",
    "$$o(4) = \\dfrac{18}{(18,4)} = \\dfrac{18}{2} = 9$$\n",
    "\n",
    "El orden de $9$ en $\\mathbb{Z}_{18}$:\n",
    "\n",
    "$$o(9) = \\dfrac{18}{(18,9)} = \\dfrac{18}{9} = 2$$\n",
    "\n",
    "Posteriormente, vamos a calcular el mínimo común múltiplo entre los ordenes de los elementos para determinar el orden de la tupla en el producto de grupos.\n",
    "\n",
    "$$o((4,9)) = \\text{mcm}(o(4),o(9)) = \\text{mcm}(9,2) = 18$$\n",
    "\n",
    "Podemos concluir:\n",
    "\n",
    "$$\\therefore o((4,9)) = 18$$"
   ]
  },
  {
   "cell_type": "code",
   "execution_count": 25,
   "metadata": {},
   "outputs": [
    {
     "name": "stdout",
     "output_type": "stream",
     "text": [
      "El máximo común divisor entre 4 y 18 es 2\n",
      "El máximo común divisor entre 4 y 18 es 9\n",
      "\n",
      "El mínimo común múltiplo entre 9 y 2 es 18\n"
     ]
    }
   ],
   "source": [
    "print(f'El máximo común divisor entre 4 y 18 es {mcd(4,18)}')\n",
    "print(f'El máximo común divisor entre 4 y 18 es {mcd(9,18)}\\n')\n",
    "print(f'El mínimo común múltiplo entre 9 y 2 es {mcm(2,9)}')"
   ]
  },
  {
   "cell_type": "markdown",
   "metadata": {},
   "source": [
    "##### b. $(7,5)$ en $\\mathbb{Z}_{12} \\times \\mathbb{Z}_{8}$\n",
    "\n",
    "El primer paso es calcular es calcular el orden de cada elemento en su respectivo grupo de origen.\n",
    "\n",
    "El orden de $7$ en $\\mathbb{Z}_{12}$:\n",
    "\n",
    "$$o(7) = \\dfrac{12}{(12,7)} = \\dfrac{12}{1} = 12$$\n",
    "\n",
    "El orden de $5$ en $\\mathbb{Z}_{8}$:\n",
    "\n",
    "$$o(5) = \\dfrac{8}{(8,5)} = \\dfrac{8}{1} = 8$$\n",
    "\n",
    "Posteriormente, vamos a calcular el mínimo común múltiplo entre los ordenes de los elementos para determinar el orden de la tupla en el producto de grupos.\n",
    "\n",
    "$$o((7,5)) = \\text{mcm}(o(8),o(5)) = \\text{mcm}(12,8) = 24$$\n",
    "\n",
    "Podemos concluir:\n",
    "\n",
    "$$\\therefore o((7,5)) = 24$$"
   ]
  },
  {
   "cell_type": "code",
   "execution_count": 26,
   "metadata": {},
   "outputs": [
    {
     "name": "stdout",
     "output_type": "stream",
     "text": [
      "El máximo común divisor entre 12 y 7 es 1\n",
      "El máximo común divisor entre 5 y 8 es 1\n",
      "\n",
      "El mínimo común múltiplo entre 12 y 8 es 24\n"
     ]
    }
   ],
   "source": [
    "print(f'El máximo común divisor entre 12 y 7 es {mcd(12,7)}')\n",
    "print(f'El máximo común divisor entre 5 y 8 es {mcd(8,5)}\\n')\n",
    "print(f'El mínimo común múltiplo entre 12 y 8 es {mcm(12,8)}')"
   ]
  },
  {
   "cell_type": "markdown",
   "metadata": {},
   "source": [
    "##### c. $(8,6,4)$ en $\\mathbb{Z}_{18} \\times \\mathbb{Z}_{9} \\times \\mathbb{Z}_{8}$\n",
    "\n",
    "El primer paso es calcular es calcular el orden de cada elemento en su respectivo grupo de origen.\n",
    "\n",
    "El orden de $8$ en $\\mathbb{Z}_{18}$:\n",
    "\n",
    "$$o(8) = \\dfrac{18}{(18,8)} = \\dfrac{18}{2} = 9$$\n",
    "\n",
    "El orden de $6$ en $\\mathbb{Z}_{9}$:\n",
    "\n",
    "$$o(5) = \\dfrac{9}{(9,6)} = \\dfrac{9}{3} = 3$$\n",
    "\n",
    "El orden de $4$ en $\\mathbb{Z}_{8}$:\n",
    "\n",
    "$$o(5) = \\dfrac{8}{(8,4)} = \\dfrac{8}{2} = 4$$\n",
    "\n",
    "Posteriormente, vamos a calcular el mínimo común múltiplo entre los ordenes de los elementos para determinar el orden de la tupla en el producto de grupos.\n",
    "\n",
    "$$o((8,6,4)) = \\text{mcm}(o(8),o(6),o(4)) = \\text{mcm}(9,3,4) = 36$$\n",
    "\n",
    "Podemos concluir:\n",
    "\n",
    "$$\\therefore o((8,6,4)) = 36$$"
   ]
  },
  {
   "cell_type": "code",
   "execution_count": 27,
   "metadata": {},
   "outputs": [
    {
     "name": "stdout",
     "output_type": "stream",
     "text": [
      "El máximo común divisor entre 18 y 8 es 2\n",
      "El máximo común divisor entre 6 y 9 es 3\n",
      "El máximo común divisor entre 4 y 8 es 4\n",
      "\n",
      "El mínimo común múltiplo entre 9, 3 y 4 es 36\n"
     ]
    }
   ],
   "source": [
    "print(f'El máximo común divisor entre 18 y 8 es {mcd(18,8)}')\n",
    "print(f'El máximo común divisor entre 6 y 9 es {mcd(6,9)}')\n",
    "print(f'El máximo común divisor entre 4 y 8 es {mcd(4,8)}\\n')\n",
    "\n",
    "print(f'El mínimo común múltiplo entre 9, 3 y 4 es {mcm(9,mcm(3,4))}')"
   ]
  },
  {
   "cell_type": "markdown",
   "metadata": {},
   "source": [
    "### 2. Determine si los siguientes productos de grupos son cíclicos:\n",
    "\n",
    "Para determinar que el producto de grupos es un grupo cíclico, debemos determinar por pares que los ordenes de cada grupo con coprimos (Es decir que su máximo común divisor es 1).\n",
    "\n",
    "Para ello, vamos a aprovechar una implementación realizada en python que nos dará la certeza de los valores, para luego explicarla de manera formal."
   ]
  },
  {
   "cell_type": "code",
   "execution_count": 28,
   "metadata": {},
   "outputs": [],
   "source": [
    "def pair_to_pair_coprimes(values):\n",
    "    '''\n",
    "    Define si un conjunto de datos cumple la propiedad de ser coprimos por pares\n",
    "\n",
    "    Parámetros:\n",
    "\n",
    "        values (list): Conjunto de datos numéricos enteros\n",
    "\n",
    "    Retorna:\n",
    "\n",
    "        Si el conjunto de datos cumple la propiedad de ser coprimos por pares (True o False)\n",
    "    '''\n",
    "    #Itera sobre los elementos de conjunto para seleccionar pares\n",
    "    for i in range(len(values)):\n",
    "        for j in range(i+1,len(values)):\n",
    "            #Verifica si el máximo común divisor es diferente de 1\n",
    "            if mcd(values[i],values[j]) != 1:\n",
    "                #De cumplirse la condición se devuelve falso al encontrar\n",
    "                #una pareja que no cumple con ser coprimos\n",
    "                return False\n",
    "    #Se devuelve verdadero al haber comparado todos los elementos por pares\n",
    "    #e identificar que todos son coprimos entre sí\n",
    "    return True"
   ]
  },
  {
   "cell_type": "code",
   "execution_count": 29,
   "metadata": {},
   "outputs": [
    {
     "name": "stdout",
     "output_type": "stream",
     "text": [
      "El conjunto definido por [12, 9] no cumple la propiedad de ser coprimos por pares\n",
      "El conjunto definido por [4, 25, 6] no cumple la propiedad de ser coprimos por pares\n",
      "El conjunto definido por [22, 21, 65] si cumple la propiedad de ser coprimos por pares\n"
     ]
    }
   ],
   "source": [
    "seta = [12,9]\n",
    "setb = [4,25,6]\n",
    "setc = [22,21,65]\n",
    "print(f'El conjunto definido por {seta} {\"si\" if pair_to_pair_coprimes(seta) else \"no\"} cumple la propiedad de ser coprimos por pares')\n",
    "print(f'El conjunto definido por {setb} {\"si\" if pair_to_pair_coprimes(setb) else \"no\"} cumple la propiedad de ser coprimos por pares')\n",
    "print(f'El conjunto definido por {setc} {\"si\" if pair_to_pair_coprimes(setc) else \"no\"} cumple la propiedad de ser coprimos por pares')"
   ]
  },
  {
   "cell_type": "markdown",
   "metadata": {},
   "source": [
    "#### a. $\\mathbb{Z}_{12} \\times \\mathbb{Z}_{9}$\n",
    "\n",
    "Podemos denotar que el número $3$ es divisor de $12$ y $9$, lo cual implica que el máximo común divisor entre $12$ y $9$ es diferente de $1$.\n",
    "\n",
    "$$9 = 3 \\cdot 3 \\,\\, \\wedge \\,\\, 12 = 3 \\cdot 4 \\Longrightarrow 3 \\mid 9 \\,\\, \\wedge \\,\\, 3 \\mid 12 \\,\\, \\Longrightarrow (12,9) \\neq 1$$\n",
    "\n",
    "Esto nos permite denotar que los elementos $12$ y $9$ no cumplen la propiedad de ser coprimos. Por consiguiente:\n",
    "\n",
    "$$\\therefore \\text{ El grupo }\\mathbb{Z}_{12} \\times \\mathbb{Z}_{9} \\text{ NO es cíclico }$$\n",
    "\n",
    "#### b. $\\mathbb{Z}_{4} \\times \\mathbb{Z}_{25} \\times \\mathbb{Z}_{6}$\n",
    "\n",
    "Vamos a analizar por parejas si el máximo común divisor entre cada una es igual a $1$.\n",
    "\n",
    "$$4 = 2 \\cdot 2 \\,\\, \\wedge \\,\\, 25 = 5 \\cdot 5 \\Longrightarrow 1 \\mid 4 \\,\\, \\wedge \\,\\, 1 \\mid 25 \\,\\, \\Longrightarrow (4,25) = 1$$\n",
    "\n",
    "$$25 = 5 \\cdot 5 \\,\\, \\wedge \\,\\, 6 = 3 \\cdot 2 \\Longrightarrow 1 \\mid 25 \\,\\, \\wedge \\,\\, 1 \\mid 6 \\,\\, \\Longrightarrow (25,6) = 1$$\n",
    "\n",
    "$$4 = 2 \\cdot 2 \\,\\, \\wedge \\,\\, 6 = 3 \\cdot 2 \\Longrightarrow 2 \\mid 4 \\,\\, \\wedge \\,\\, 2 \\mid 6 \\,\\, \\Longrightarrow (6,4) \\neq 1$$\n",
    "\n",
    "Podemos denotar que el número $2$ es divisor de $4$ y $6$, lo cual implica que el máximo común divisor entre $4$ y $6$ es diferente de $1$.\n",
    "\n",
    "Esto nos permite denotar que los elementos $4$ y $6$ no cumplen la propiedad de ser coprimos. Por consiguiente:\n",
    "\n",
    "$$\\therefore \\text{ El grupo }\\mathbb{Z}_{4} \\times \\mathbb{Z}_{25} \\times \\mathbb{Z}_{6} \\text{ NO es cíclico }$$\n",
    "\n",
    "#### c. $\\mathbb{Z}_{22} \\times \\mathbb{Z}_{21} \\times \\mathbb{Z}_{65}$\n",
    "\n",
    "Vamos a analizar por parejas si el máximo común divisor entre cada una es igual a $1$.\n",
    "\n",
    "$$22 = 2 \\cdot 11 \\,\\, \\wedge \\,\\, 21 = 3 \\cdot 7 \\Longrightarrow 1 \\mid 22 \\,\\, \\wedge \\,\\, 1 \\mid 21 \\,\\, \\Longrightarrow (22,21) = 1$$\n",
    "\n",
    "$$21 = 3 \\cdot 7 \\,\\, \\wedge \\,\\, 65 = 5 \\cdot 13 \\Longrightarrow 1 \\mid 21 \\,\\, \\wedge \\,\\, 1 \\mid 65 \\,\\, \\Longrightarrow (21,65) = 1$$\n",
    "\n",
    "$$22 = 2 \\cdot 11 \\,\\, \\wedge \\,\\, 65 = 5 \\cdot 13 \\Longrightarrow 1 \\mid 22 \\,\\, \\wedge \\,\\, 1 \\mid 65 \\,\\, \\Longrightarrow (22,65) = 1$$\n",
    "\n",
    "Podemos denotar que los números $21$, $22$ y $65$ son coprimos por pares entre sí. Por consiguiente:\n",
    "\n",
    "$$\\therefore \\text{ El grupo }\\mathbb{Z}_{22} \\times \\mathbb{Z}_{21} \\times \\mathbb{Z}_{65} \\text{ SI es cíclico }$$"
   ]
  }
 ],
 "metadata": {
  "kernelspec": {
   "display_name": "Python 3",
   "language": "python",
   "name": "python3"
  },
  "language_info": {
   "codemirror_mode": {
    "name": "ipython",
    "version": 3
   },
   "file_extension": ".py",
   "mimetype": "text/x-python",
   "name": "python",
   "nbconvert_exporter": "python",
   "pygments_lexer": "ipython3",
   "version": "3.10.11"
  }
 },
 "nbformat": 4,
 "nbformat_minor": 2
}
