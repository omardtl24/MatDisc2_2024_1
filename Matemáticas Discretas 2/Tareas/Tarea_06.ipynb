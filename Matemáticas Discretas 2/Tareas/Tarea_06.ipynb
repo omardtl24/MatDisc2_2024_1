{
 "cells": [
  {
   "cell_type": "markdown",
   "metadata": {},
   "source": [
    "**DESARROLLO TAREA 6 MATEMÁTICAS DISCRETAS 2 - 2024-1**\n",
    "\n",
    "**Profesor:** Arles Ernesto Rodríguez Portela\n",
    "\n",
    "**Estudiante:** Omar David Toledo Leguizamón"
   ]
  },
  {
   "cell_type": "markdown",
   "metadata": {},
   "source": [
    "# Tarea 6\n",
    "\n",
    "1. Dado un grupo $G$ y $a\\in G$. Demuestre que $H=\\langle a \\rangle$ es un subgrupo de $G$ $(H\\leq G)$\n",
    "\n",
    "2. Encuentre los subgrupos de $G=(\\mathbb{Z}_{18},\\oplus)$"
   ]
  },
  {
   "cell_type": "markdown",
   "metadata": {},
   "source": [
    "## Desarrollo"
   ]
  },
  {
   "cell_type": "markdown",
   "metadata": {},
   "source": [
    "### 1. Dado un grupo $G$ y $a\\in G$. Demuestre que $H=\\langle a \\rangle$ es un subgrupo de $G$ $(H\\leq G)$"
   ]
  },
  {
   "cell_type": "markdown",
   "metadata": {},
   "source": [
    "Para determinar que $H=\\langle a \\rangle$ siendo $a\\in G$ es un subgrupo de $G$, vamos a centrarnos en demostrar los tres elementos principales del teorema. Adicionalmente, tendremos en cuenta que usaremos la notación multipilicativa:\n",
    "\n",
    "$$\\langle a \\rangle = \\{a^{n} : n \\in \\mathbb{Z}\\}$$\n",
    "\n",
    "#### a. $H \\neq \\varnothing$\n",
    "\n",
    "Con el fin de demostrar que el conjunto generado es no vacío, vamos a aprovechar en la notación multiplicativa que el exponente $n$ puede ser cualquier número entero.\n",
    "\n",
    "$$a^{n} \\in H \\,\\, \\wedge \\,\\, n \\in \\mathbb{Z} \\,\\, \\wedge \\,\\, 0 \\in \\mathbb{Z} \\,\\, \\Longrightarrow \\,\\, a^{0} \\in H \\,\\, \\Longrightarrow \\,\\, e \\in H$$\n",
    "\n",
    "Podemos denotar que el elemento identidad siempre se va a encontrar en el conjunto $\\langle a \\rangle$ independientemente del valor de $a$.\n",
    "\n",
    "$$ e \\in \\langle a \\rangle \\,\\, \\Longrightarrow \\,\\, \\langle a \\rangle \\neq \\varnothing \\,\\,\\, \\forall_{a \\in G}$$\n",
    "\n",
    "Se puede concluir:\n",
    "\n",
    " $$\\therefore H \\neq \\varnothing $$\n",
    "\n",
    "#### b. $\\forall_{x,y \\in H} \\,\\,\\,\\, xy \\in H$\n",
    "\n",
    "Nuestro objetivo es demostrar que la operación es cerrada sobre el conjunto $H$. Para ello, vamos a suponer dos elementos del conjunto escritos en su notación multiplicativa y los vamos a operar.\n",
    "\n",
    "$$ n,m \\in \\mathbb{Z} \\Longrightarrow m+n \\in \\mathbb{Z}$$\n",
    "\n",
    "$$ n,m \\in \\mathbb{Z} \\Longrightarrow a^{n},a^{m} \\in H$$\n",
    "\n",
    "$$a^{m}a^{n} = a^{m+n} \\Longrightarrow a^{m+n} \\in H$$\n",
    "\n",
    "Logramos demostrar que al operar dos elementos de $H$, el resultado sigue perteneciendo a $H$\n",
    "\n",
    "$$ \\therefore \\,\\, \\forall_{x,y \\in H} \\,\\,\\,\\, xy \\in H$$\n",
    "\n",
    "#### c. $\\forall_{x \\in H} \\,\\,\\,\\, x^{-1} \\in H$\n",
    "\n",
    "Para demostrar que los inversos de cada elemento están en el grupo, aprovecharemos la definición de inverso.\n",
    "\n",
    "$$\\forall_{x \\in H}\\exists_{y \\in H} \\,\\, xy = yx = e$$\n",
    "\n",
    "En este caso, encontraremos un elemento $y$ que cumpla la condición y trataremos de expresarlo como una potencia de $a$, garantizando que pertenece a $\\langle a \\rangle$\n",
    "\n",
    "$$\n",
    "\\begin{array}{rclcl}\n",
    "   a^{n}y &= &e& & \\text{Definición de inverso} \\\\\n",
    "   a^{n}a^{m} &= &e& & \\text{Reescribimos como potencia de a} \\\\\n",
    "   a^{n+m} &= &e& & \\text{Realizamos la operación} \\\\ \n",
    "   a^{n+m} &= &a^{0}& & \\text{Reescribimos } e \\\\\n",
    "   n+m & = & 0 && \\text{Analizamos exponentes} \\\\\n",
    "   m &=& -n & & \\\\ \\\\\n",
    "   \\therefore \\,\\, y &=& a^{-n} & & \\text{Reescribimos nuestra solución}\n",
    "\n",
    "\\end{array}\n",
    "$$\n",
    "\n",
    "Podemos determinar que el inverso de todo elemento $a^{n}$ es el elemento $a^{-n}$\n",
    "\n",
    "$$n \\in \\mathbb{Z} \\,\\, \\Longrightarrow \\,\\, -n \\in \\mathbb{Z} \\,\\, \\Longrightarrow \\,\\, a^{-n} \\in H$$\n",
    "\n",
    "Con esto podemos concluir:\n",
    "\n",
    "$$\\therefore \\,\\, \\forall_{x \\in H} \\,\\,\\,\\, x^{-1} \\in H$$\n",
    "\n",
    "#### Finalmente:\n",
    "\n",
    "El conjunto definido por $\\langle a \\rangle$ es no vacío, es cerrado tanto para todos sus elementos como para sus inversos.\n",
    "\n",
    "$$\\therefore H = \\langle a \\rangle \\,\\,  \\wedge  \\,\\, a \\in G \\,\\, \\Longrightarrow \\,\\, H \\leq G$$\n",
    "\n",
    "\n",
    "\n",
    "\n",
    "\n",
    "\n",
    "\n"
   ]
  },
  {
   "cell_type": "markdown",
   "metadata": {},
   "source": [
    "### 2. Encuentre los subgrupos de $G=(\\mathbb{Z}_{18},\\oplus)$"
   ]
  },
  {
   "cell_type": "markdown",
   "metadata": {},
   "source": [
    "\n",
    "\n",
    "Por la definición de grupo cíclico, sabemos que $x=1$ es un generador del grupo $\\mathbb{Z}_{18}$ y que $o(1)=18$. A partir de eso, podemos concluir que:\n",
    "\n",
    "$$o(1)=18 \\,\\, \\wedge \\,\\, \\langle 1 \\rangle = G \\,\\, \\Longrightarrow \\,\\, |G| = 18$$\n",
    "\n",
    "Dado que el conjunto es cíclico de orden $18$, podemos identificar que todos los divisores de $18$ representan todos los generadores subgrupos posibles. En este caso, $18$ es divisor de si mismo, pero no es un elemento de $H$. Adicionalmente, se agrega el subgrupo trvial ($\\langle 0 \\rangle$)\n",
    "\n",
    "$$18 = 2 \\cdot 3^{2} \\Longrightarrow 3 \\mid 18 \\,\\, \\wedge \\,\\, 2 \\mid 18 \\,\\, \\wedge \\,\\, 6 \\mid 18 \\,\\, \\wedge \\,\\, 9 \\mid 18 \\,\\, \\wedge \\,\\, 1 \\mid 18 \\,\\, \\wedge \\,\\, 18 \\mid 18$$\n",
    "\n",
    "A partir de eso, podemos definir todos los subgrupos posibles a partir de los generadores hallados:\n",
    "$$\n",
    "\\therefore\n",
    "\\begin{array}{rcl}\n",
    "    \\langle 1 \\rangle &=& G \\\\\n",
    "    \\langle 2 \\rangle &=& \\{0,2,4,6,8,10,12,14,16\\} \\\\\n",
    "    \\langle 3 \\rangle &=& \\{0,3,9,12,15\\} \\\\\n",
    "    \\langle 6 \\rangle &=& \\{0,6,12\\} \\\\\n",
    "    \\langle 9 \\rangle &=& \\{0,9\\} \\\\\n",
    "    \\langle 0 \\rangle &=& \\{0\\} \\\\\n",
    "\\end{array}\n",
    "$$\n"
   ]
  }
 ],
 "metadata": {
  "language_info": {
   "name": "python"
  }
 },
 "nbformat": 4,
 "nbformat_minor": 2
}
