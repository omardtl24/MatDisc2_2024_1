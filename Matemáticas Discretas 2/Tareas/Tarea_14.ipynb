{
 "cells": [
  {
   "cell_type": "markdown",
   "metadata": {},
   "source": [
    "**DESARROLLO TAREA 14 MATEMÁTICAS DISCRETAS 2 - 2024-1**\n",
    "\n",
    "**Profesor:** Arles Ernesto Rodríguez Portela\n",
    "\n",
    "**Estudiante:** Omar David Toledo Leguizamón"
   ]
  },
  {
   "cell_type": "markdown",
   "metadata": {},
   "source": [
    "# Tarea 14\n",
    "\n",
    "1. Si $n≡5 \\mod 9$, ¿Qué puede ser $n \\mod 3$?\n",
    "2. ¿Cuál es el menor número entero positivo $n$ tal que $n≡3\\mod 11$ y $n≡7\\mod 17$? (Elaborar a mano)"
   ]
  },
  {
   "cell_type": "markdown",
   "metadata": {},
   "source": [
    "## Desarrollo"
   ]
  },
  {
   "cell_type": "markdown",
   "metadata": {},
   "source": [
    "### 1. Si $n≡5 \\mod 9$, ¿Qué puede ser $n \\mod 3$?"
   ]
  },
  {
   "cell_type": "markdown",
   "metadata": {},
   "source": [
    "Dado que $n$ es congruente con $5$ módulo $9$, vamos a reescribirlo en términos de divisibilidad:\n",
    "\n",
    "$$n≡5 \\mod 9 \\,\\, \\Longrightarrow \\,\\, 9|(n-5) \\,\\, \\Longrightarrow \\,\\, 9k = (n-5) \\quad k \\in \\mathbb{Z}\\,\\, \\Longrightarrow \\,\\, n = 9k + 5$$\n",
    "\n",
    "Basandonos en la ultima expresión, vamos a aplicarle congruencia módulo $3$ para determinar el comportamiento que nos interesa averiguar; adicionalmente, aplicaremos las diferentes propiedades de la congruencia módulo $m$:\n",
    "\n",
    "\\begin{array}{rcl}\n",
    "    n & ≡ & 9k + 5 \\mod 3 \\\\\n",
    "      & ≡ & 3\\cdot 3k + 5 \\mod 3   \\\\\n",
    "      & ≡ & 0 + 5 \\mod 3 \\\\\n",
    "      & ≡ & 5 \\mod 3 \\\\\n",
    "      & ≡ & 2 \\mod 3 \\\\\n",
    "\n",
    "\\end{array}\n",
    "\n",
    "Con esto podemos concluir que:\n",
    "\n",
    "$$\\therefore n≡5 \\mod 9 \\,\\, \\Longrightarrow \\,\\, n≡2 \\mod 3$$\n",
    "\n"
   ]
  },
  {
   "cell_type": "markdown",
   "metadata": {},
   "source": [
    "### 2. ¿Cuál es el menor número entero positivo $n$ tal que $n≡3\\mod 11$ y $n≡7\\mod 17$? (Elaborar a mano)"
   ]
  },
  {
   "cell_type": "markdown",
   "metadata": {},
   "source": [
    "El problema propuesto es un caso clásico de aplicación del Teorema del resto chino. Para ello, vamos a hallar el máximo común divisor entre $11$ y $17$; para luego determinar si el problema es soluble para los valores de $3$ y $7$.\n",
    "\n",
    "Aplicando el algortimo de euclides:\n",
    "\n",
    "\\begin{array}{rcl}\n",
    "    17 &=& 11 \\cdot 1 + 6 \\\\\n",
    "    11 &=& 6 \\cdot 1 + 5 \\\\\n",
    "    6 &=& 5 \\cdot 1 + 1 \\\\\n",
    "    5 &=& \\textcolor{red}{1} \\cdot 5 + 0 \\\\\n",
    "\\end{array}\n",
    "\n",
    "Ya sabiendo que el máximo común divisor entre $11$ y $17$ es $1$, procedemos a utilizar el procedimiento extendido que nos devuelve la combinación lineal entre $11$ y $17$ que nos permite obtenerlo:\n",
    "\n",
    "\\begin{array}{rcl}\n",
    "    1 &=& 6 - 5 \\cdot 1\\\\\n",
    "      &=& 6 - (11 - 6 \\cdot 1) \\cdot 1 \\\\\n",
    "      &=& 6 \\cdot 2 - 11 \\cdot 1 \\\\\n",
    "      &=& (17- 11 \\cdot 1) \\cdot 2 - 11 \\cdot 1 \\\\\n",
    "      &=& 17\\cdot \\textcolor{green}{2} - 11 \\cdot \\textcolor{green}{3} \\\\\n",
    "\\end{array}\n",
    "\n",
    "Dado que el máximo común divisor de las expresiones es igual a $1$, podemos inferir que el problema planteado es soluble para cualquier pareja; por lo que es soluble para $3$ y $7$.\n",
    "\n",
    "Dado que sabemos que $17\\cdot 2 - 11 \\cdot 3 = 1$, nos interesa encontrar los valores $x$ y $y$ que satisfacen la expresión:\n",
    "\n",
    " $$17\\cdot x - 11 \\cdot y = 3-7 = -4$$\n",
    " \n",
    "Podemos denotar que:\n",
    "\n",
    "$$x = \\left \\lfloor \\dfrac{3-7}{1} \\right \\rfloor \\cdot 2 = -8 \\quad \\wedge \\quad y = \\left \\lfloor \\dfrac{3-7}{1} \\right \\rfloor \\cdot 3 = -12$$\n",
    "\n",
    "Dandonos como resultado:\n",
    "\n",
    " $$17\\cdot \\textcolor{green}{-8} - 11 \\cdot \\textcolor{green}{-12} = - 4$$\n",
    "\n",
    "Con este resultado, ya podemos determinar el menor entero positivo que satisface la expresión a partir de la siguiente expresión:\n",
    "\n",
    "\\begin{array}{rcl}\n",
    "    n &=& (17 \\cdot -8 + 7) \\mod (17 \\cdot 11) \\\\\n",
    "      &=& -129 \\mod 187 \\\\\n",
    "      &=& 58\n",
    "\\end{array}\n",
    "\n",
    "Finalmente, hacemos la comprobación con una herramienta computacional que aplica el teorema chino del resto:"
   ]
  },
  {
   "cell_type": "code",
   "execution_count": 7,
   "metadata": {},
   "outputs": [
    {
     "name": "stdout",
     "output_type": "stream",
     "text": [
      "El valor obtenido fue n = 58\n",
      "58 mod 17 = 7\n",
      "58 mod 11 = 3\n"
     ]
    }
   ],
   "source": [
    "def extended_gcd(a, b):\n",
    "  if b == 0:\n",
    "    d, x, y = a, 1, 0\n",
    "  else:\n",
    "    (d, p, q) = extended_gcd(b, a % b)\n",
    "    x = q\n",
    "    y = p - q * (a // b)\n",
    "  assert a % d == 0 and b % d == 0\n",
    "  assert d == a * x + b * y\n",
    "  return (d, x, y)\n",
    "\n",
    "def chinese_theorem(a,u,b,v):\n",
    "    #Calculamos el gcd extendido usando \n",
    "    #el algoritmos de euclides\n",
    "    d,x,y = extended_gcd(a, b)\n",
    "    y = -y\n",
    "    #Verificamos criterio de divisibilidad\n",
    "    assert (v-u)%d == 0\n",
    "    #Calculamos coeficientes del problema planteado\n",
    "    x *= (v-u)//d\n",
    "    y *= (v-u)//d\n",
    "    assert v-u == a * x - b * y\n",
    "    #Encontramos y reornamos valor de m\n",
    "    return (a*x+u)%(a*b)\n",
    "\n",
    "a = 17\n",
    "u = 7\n",
    "b = 11\n",
    "v = 3\n",
    "\n",
    "n = chinese_theorem(a,u,b,v)\n",
    "\n",
    "print(f'El valor obtenido fue n = {n}')\n",
    "print(f'{n} mod {a} = {n%a}')\n",
    "print(f'{n} mod {b} = {n%b}')"
   ]
  },
  {
   "cell_type": "markdown",
   "metadata": {},
   "source": [
    "Finalmente, podemos concluir:\n",
    "\n",
    "$$\\therefore \\,\\, n \\equiv 7 \\mod 17 \\,\\, \\wedge \\,\\, n \\equiv 3 \\mod 11 \\,\\, \\Longrightarrow \\,\\, n = 58$$\n",
    "\n"
   ]
  }
 ],
 "metadata": {
  "kernelspec": {
   "display_name": "Python 3",
   "language": "python",
   "name": "python3"
  },
  "language_info": {
   "codemirror_mode": {
    "name": "ipython",
    "version": 3
   },
   "file_extension": ".py",
   "mimetype": "text/x-python",
   "name": "python",
   "nbconvert_exporter": "python",
   "pygments_lexer": "ipython3",
   "version": "3.11.9"
  }
 },
 "nbformat": 4,
 "nbformat_minor": 2
}
