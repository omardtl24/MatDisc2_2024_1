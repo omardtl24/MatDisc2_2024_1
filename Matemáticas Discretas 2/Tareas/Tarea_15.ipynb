{
 "cells": [
  {
   "cell_type": "markdown",
   "metadata": {},
   "source": [
    "**DESARROLLO TAREA 15 MATEMÁTICAS DISCRETAS 2 - 2024-1**\n",
    "\n",
    "**Profesor:** Arles Ernesto Rodríguez Portela\n",
    "\n",
    "**Estudiante:** Omar David Toledo Leguizamón"
   ]
  },
  {
   "cell_type": "markdown",
   "metadata": {},
   "source": [
    "## Tarea 15\n",
    "\n",
    "1. Calcule $2^{238}\\mod 239$\n",
    "\n",
    "2. Calcule $2^{953}\\mod 239$\n",
    "\n",
    "3. Calcule $\\varphi(77)$\n",
    "\n",
    "4. Calcule $34^{60}\\mod 77$\n",
    "\n"
   ]
  },
  {
   "cell_type": "markdown",
   "metadata": {},
   "source": [
    "## Desarrollo"
   ]
  },
  {
   "cell_type": "markdown",
   "metadata": {},
   "source": [
    "### 0. Funciones auxiliares"
   ]
  },
  {
   "cell_type": "markdown",
   "metadata": {},
   "source": [
    "Antes de realizar el desarrollo de los problemas, diseñaremos una serie de códigos que nos permitiran verificar la calidad de nuestras respuestas"
   ]
  },
  {
   "cell_type": "code",
   "execution_count": 63,
   "metadata": {},
   "outputs": [],
   "source": [
    "from IPython.display import display, Math\n",
    "\n",
    "def simple_gcd(a,b):\n",
    "    '''\n",
    "      Obtiene el máximo comúun divisor entre a y b\n",
    "    '''\n",
    "    if b>a: return simple_gcd(b,a)\n",
    "    if b==0: return a\n",
    "    return simple_gcd(b,a%b)\n",
    "\n",
    "def min_divisor(n):\n",
    "    '''\n",
    "        Obtiene el minimo divisor de n\n",
    "    '''\n",
    "    for i in range(2,n+1):\n",
    "        if n%i==0: return i\n",
    "        if i*i>n: return n\n",
    "\n",
    "def is_prime(n):\n",
    "    '''\n",
    "        Define si n es primo o no\n",
    "    '''\n",
    "    return n==min_divisor(n)\n",
    "\n",
    "def factoring(n):\n",
    "    '''\n",
    "        Obtiene n como producto de factores primos\n",
    "    '''\n",
    "    if is_prime(n):\n",
    "        return [n]\n",
    "    m = min_divisor(n)\n",
    "    return [m]+factoring(n//m)\n",
    "\n",
    "def fast_modular_exp(b,e,m):\n",
    "    '''\n",
    "        Aplica de forma rapida la operación (b**e)%m\n",
    "    '''\n",
    "    assert m>0 and e>=0\n",
    "    if e==0: return 1\n",
    "    if e==1: return b\n",
    "    if e%2==0:\n",
    "        return fast_modular_exp((b*b)%m,e//2,m)\n",
    "    else:\n",
    "        return (fast_modular_exp(b,e-1,m)*b)%m\n",
    "    \n",
    "def dummy_phi(n):\n",
    "    '''\n",
    "        Cuenta los primos desde 1 hasta n-1\n",
    "    '''\n",
    "    count = 0\n",
    "    for i in range(1,n):\n",
    "        count+= 1 if simple_gcd(n,i)==1 else 0\n",
    "    return count"
   ]
  },
  {
   "cell_type": "markdown",
   "metadata": {},
   "source": [
    "### 1. Calcule $2^{238}\\mod 239$"
   ]
  },
  {
   "cell_type": "markdown",
   "metadata": {},
   "source": [
    "Podemos identificar que el problema presentado tiene una estructura muy similar a lo planteado en el pequeño teorema de Fermat. En nuestro caso, siendo:\n",
    "\n",
    "$$f=2 \\,\\, \\wedge \\,\\, p = 239 \\,\\, \\Longrightarrow \\,\\, f^{p-1} \\mod p$$\n",
    "\n",
    "Por consiguiente, nuestro siguiente paso es evaluar si el entero $p$ es primo para ver si estamos en el caso del teorema de Fermat. Para ello, evaluaremos si $239$ es divisible por alguno de los enteros entre $2$ y $\\lceil \\sqrt{239} \\rceil = 16$:\n",
    "\n",
    "\\begin{array}{lclcl}\n",
    "\t 239 = 2 \\cdot 119 + 1 & \\Longrightarrow & 239 \\mod 2 = 1 & \\Longrightarrow & 2\\nmid 239 \\\\\n",
    "\t 239 = 3 \\cdot 79 + 2 & \\Longrightarrow & 239 \\mod 3 = 2 & \\Longrightarrow & 3\\nmid 239 \\\\\n",
    "\t 239 = 4 \\cdot 59 + 3 & \\Longrightarrow & 239 \\mod 4 = 3 & \\Longrightarrow & 4\\nmid 239 \\\\\n",
    "\t 239 = 5 \\cdot 47 + 4 & \\Longrightarrow & 239 \\mod 5 = 4 & \\Longrightarrow & 5\\nmid 239 \\\\\n",
    "\t 239 = 6 \\cdot 39 + 5 & \\Longrightarrow & 239 \\mod 6 = 5 & \\Longrightarrow & 6\\nmid 239 \\\\\n",
    "\t 239 = 7 \\cdot 34 + 1 & \\Longrightarrow & 239 \\mod 7 = 1 & \\Longrightarrow & 7\\nmid 239 \\\\\n",
    "\t 239 = 8 \\cdot 29 + 7 & \\Longrightarrow & 239 \\mod 8 = 7 & \\Longrightarrow & 8\\nmid 239 \\\\\n",
    "\t 239 = 9 \\cdot 26 + 5 & \\Longrightarrow & 239 \\mod 9 = 5 & \\Longrightarrow & 9\\nmid 239 \\\\\n",
    "\t 239 = 10 \\cdot 23 + 9 & \\Longrightarrow & 239 \\mod 10 = 9 & \\Longrightarrow & 10\\nmid 239 \\\\\n",
    "\t 239 = 11 \\cdot 21 + 8 & \\Longrightarrow & 239 \\mod 11 = 8 & \\Longrightarrow & 11\\nmid 239 \\\\\n",
    "\t 239 = 12 \\cdot 19 + 11 & \\Longrightarrow & 239 \\mod 12 = 11 & \\Longrightarrow & 12\\nmid 239 \\\\\n",
    "\t 239 = 13 \\cdot 18 + 5 & \\Longrightarrow & 239 \\mod 13 = 5 & \\Longrightarrow & 13\\nmid 239 \\\\\n",
    "\t 239 = 14 \\cdot 17 + 1 & \\Longrightarrow & 239 \\mod 14 = 1 & \\Longrightarrow & 14\\nmid 239 \\\\\n",
    "\t 239 = 15 \\cdot 15 + 14 & \\Longrightarrow & 239 \\mod 15 = 14 & \\Longrightarrow & 15\\nmid 239 \\\\\n",
    "\t 239 = 16 \\cdot 14 + 15 & \\Longrightarrow & 239 \\mod 16 = 15 & \\Longrightarrow & 16\\nmid 239 \\\\\n",
    "\\end{array}\n",
    "\n",
    "Dado que ninguno de los valores divide a $239$, podemos concluir que es un número primo.\n",
    "\n",
    "Adicionalmente, debemos verificar que $p$ no divide a $f$. Dado que en nuestro caso $f<p$, podemos facilmente afirmar que la condición del teorema de Fermat se cumple sin problema.\n",
    "\n",
    "Dados los resultados anteriores, se puede aplicar el teorema de Fermat, dandonos como resultado que:\n",
    "\n",
    "$$2^{238} \\equiv 1 \\mod 239$$\n",
    "\n",
    "Vamos a confirmar este resultado usando un modelo computacional que calcula de manera rápida y óptima la exponenciación modular:\n"
   ]
  },
  {
   "cell_type": "code",
   "execution_count": 46,
   "metadata": {},
   "outputs": [
    {
     "name": "stdout",
     "output_type": "stream",
     "text": [
      "El número 239 si es primo\n"
     ]
    },
    {
     "data": {
      "text/latex": [
       "$\\displaystyle 2^{238} \\mod 239 = 1$"
      ],
      "text/plain": [
       "<IPython.core.display.Math object>"
      ]
     },
     "metadata": {},
     "output_type": "display_data"
    }
   ],
   "source": [
    "b = 2\n",
    "e = 238\n",
    "m = 239\n",
    "m_isprime = 'si' if is_prime(m) else 'no'\n",
    "\n",
    "print(f'El número {m} {m_isprime} es primo')\n",
    "if m_isprime=='no':\n",
    "    prod = \" \\\\cdot \".join([str(prime) for prime in factoring(m)])\n",
    "    display(Math(f'{m} = {prod}'))\n",
    "display(Math(f'{b}^{{{e}}} \\\\mod {m} = {fast_modular_exp(b,e,m)}'))"
   ]
  },
  {
   "cell_type": "markdown",
   "metadata": {},
   "source": [
    "Ya con este resultado y la confirmación del modelo computacional, podemos concluir que:\n",
    "\n",
    "$$\\therefore 2^{238} \\mod 239 = 1$$"
   ]
  },
  {
   "cell_type": "markdown",
   "metadata": {},
   "source": [
    "### 2. Calcule $2^{953}\\mod 239$"
   ]
  },
  {
   "cell_type": "markdown",
   "metadata": {},
   "source": [
    "Dado que ya sabemos que el número $239$ es primo, vamos a tratar de reescribir nuestro problema de tal forma que podamos reducir su complejidad a través del pequeño teorema de Fermat.\n",
    "\n",
    "En primer lugar reescribiremos el número $953$ como la división entre sí y $238$:\n",
    "\n",
    "$$953 = 238 \\cdot 4 + 1$$\n",
    "\n",
    "Utilizaremos este resultado para aplicarlo sobre la expresión en términos de congruencias modulares:\n",
    "\n",
    "$$2^{953} \\equiv 2^{238 \\cdot 4 + 1} \\equiv 2^{238\\cdot 4} \\cdot 2^1 \\equiv (2^{238})^4 \\cdot 2^1 \\equiv 1^4 \\cdot 2^1 \\equiv 1 \\cdot 2 \\equiv 2 \\mod 239$$\n",
    "\n",
    "Con este proceso, obtenemos como resultado lo siguiente:\n",
    "\n",
    "$$2^{953}  \\equiv 2 \\mod 239$$\n",
    "\n",
    "Finalmente, aprovecharemos los recursos computacionales para confirmar este resultado:"
   ]
  },
  {
   "cell_type": "code",
   "execution_count": 47,
   "metadata": {},
   "outputs": [
    {
     "name": "stdout",
     "output_type": "stream",
     "text": [
      "El número 239 si es primo\n"
     ]
    },
    {
     "data": {
      "text/latex": [
       "$\\displaystyle 2^{953} \\mod 239 = 2$"
      ],
      "text/plain": [
       "<IPython.core.display.Math object>"
      ]
     },
     "metadata": {},
     "output_type": "display_data"
    }
   ],
   "source": [
    "b = 2\n",
    "e = 953\n",
    "m = 239\n",
    "m_isprime = 'si' if is_prime(m) else 'no'\n",
    "\n",
    "print(f'El número {m} {m_isprime} es primo')\n",
    "if m_isprime=='no':\n",
    "    prod = \" \\\\cdot \".join([str(prime) for prime in factoring(m)])\n",
    "    display(Math(f'{m} = {prod}'))\n",
    "display(Math(f'{b}^{{{e}}} \\\\mod {m} = {fast_modular_exp(b,e,m)}'))"
   ]
  },
  {
   "cell_type": "markdown",
   "metadata": {},
   "source": [
    "Ya con este resultado y la confirmación del modelo computacional, podemos concluir que:\n",
    "\n",
    "$$\\therefore 2^{953} \\mod 239 = 2$$"
   ]
  },
  {
   "cell_type": "markdown",
   "metadata": {},
   "source": [
    "### 3. Calcule $\\varphi(77)$"
   ]
  },
  {
   "cell_type": "markdown",
   "metadata": {},
   "source": [
    "Dado que es algo complejo evaluar todos los números que están entre 1 y 76 para ver si son primos relativos con $77$, vamos a descomponer el objetivo en factores primos y aplicaremos la definición de homomorfismo para la función totiente.\n",
    "\n",
    "Descomponemos $77$ en factores primos:\n",
    "\n",
    "$$77 = 7 \\cdot 11$$\n",
    "\n",
    "Ahora aplicamos la definición del homomorfismo de la función totiente:\n",
    "\n",
    "$$\\varphi(77) = \\varphi(77\\cdot 11) = \\varphi(11)\\cdot \\varphi(7)$$\n",
    "\n",
    "Dado que ahora tenemos que hallar la función totiente de dos elementos que son primos, podemos acogernos a la definición:\n",
    "\n",
    "$$\\varphi(7) = 7\\left(1 - \\dfrac{1}{7}\\right) = 7-1 = 6$$\n",
    "$$\\varphi(11) = 11\\left(1 - \\dfrac{1}{11}\\right) = 11-1 = 10$$\n",
    "\n",
    "Finalmente volvemos a nuestro problema inicial y resolvemos para el valor objetivo.\n",
    "\n",
    "$$\\varphi(77) = \\varphi(11)\\cdot \\varphi(7) = 10 \\cdot 6 = 60$$\n",
    "\n",
    "Finalmente, aprovecharemos los recursos computacionales para confirmar este resultado:"
   ]
  },
  {
   "cell_type": "code",
   "execution_count": 64,
   "metadata": {},
   "outputs": [
    {
     "name": "stdout",
     "output_type": "stream",
     "text": [
      "El número 77 no es primo\n"
     ]
    },
    {
     "data": {
      "text/latex": [
       "$\\displaystyle 77 = 7 \\cdot 11$"
      ],
      "text/plain": [
       "<IPython.core.display.Math object>"
      ]
     },
     "metadata": {},
     "output_type": "display_data"
    },
    {
     "data": {
      "text/latex": [
       "$\\displaystyle \\varphi(77) = 60$"
      ],
      "text/plain": [
       "<IPython.core.display.Math object>"
      ]
     },
     "metadata": {},
     "output_type": "display_data"
    }
   ],
   "source": [
    "n = 77\n",
    "n_isprime = 'si' if is_prime(n) else 'no'\n",
    "print(f'El número {n} {n_isprime} es primo')\n",
    "if n_isprime=='no':\n",
    "    prod = \" \\\\cdot \".join([str(prime) for prime in factoring(n)])\n",
    "    display(Math(f'{n} = {prod}'))\n",
    "display(Math(f'\\\\varphi({n}) = {dummy_phi(n)}'))"
   ]
  },
  {
   "cell_type": "markdown",
   "metadata": {},
   "source": [
    "Ya con este resultado y la confirmación del modelo computacional, podemos concluir que:\n",
    "\n",
    "$$\\therefore \\varphi(77) = 60$$"
   ]
  },
  {
   "cell_type": "markdown",
   "metadata": {},
   "source": [
    "### 4. Calcule $34^{60}\\mod 77$"
   ]
  },
  {
   "cell_type": "markdown",
   "metadata": {},
   "source": [
    "El problema en cuestión es un caso particular del teorema del Totiente de Euler. Dado el entero $77$ que ya sabemos que es compuesto, se plantea un problema de exponenciación modular donde el exponente es el valor de la función totiente de este número.\n",
    "\n",
    "$$N = 77 \\,\\, \\Longrightarrow \\,\\, 34^{\\varphi(N)} \\mod N$$\n",
    "\n",
    "Dado que esto se cumple, debemos verificar que $34$ sea primo relativo de $77$ (Su máximo común divisor debe ser igual a 1), para ello aplicaremos el algoritmo de euclides de forma rápida:\n",
    "\n",
    "\\begin{array}{rcl}\n",
    "    77&=&34 \\cdot 2 + 9 \\\\\n",
    "    34&=&9 \\cdot 3 + 7\\\\\n",
    "    9 &=&7 \\cdot 1 + 2\\\\\n",
    "    7&=&2 \\cdot 3 + 1\\\\\n",
    "    2&=&\\textcolor{red}{1} \\cdot 2 + 0\n",
    "\\end{array}\n",
    "\n",
    "Dado que $77$ y $34$ son primos relativos, podemos aplicar el teorema del Totiente de Euler, el cual nos permite concluir de forma rápida que:\n",
    "\n",
    "$$34^{60} \\equiv 1 \\mod 77 $$\n",
    "\n",
    "Adicionalmente, aprovecharemos los recursos computacionales para confirmar este resultado:"
   ]
  },
  {
   "cell_type": "code",
   "execution_count": 65,
   "metadata": {},
   "outputs": [
    {
     "data": {
      "text/latex": [
       "$\\displaystyle 34^{60} \\mod 77 = 1$"
      ],
      "text/plain": [
       "<IPython.core.display.Math object>"
      ]
     },
     "metadata": {},
     "output_type": "display_data"
    }
   ],
   "source": [
    "b = 34\n",
    "e = 60\n",
    "m = 77\n",
    "\n",
    "display(Math(f'{b}^{{{e}}} \\\\mod {m} = {fast_modular_exp(b,e,m)}'))"
   ]
  },
  {
   "cell_type": "markdown",
   "metadata": {},
   "source": [
    "Ya con este resultado y la confirmación del modelo computacional, podemos concluir que:\n",
    "\n",
    "$$\\therefore 34^{60}  \\mod 77 = 1 $$"
   ]
  }
 ],
 "metadata": {
  "kernelspec": {
   "display_name": "Python 3",
   "language": "python",
   "name": "python3"
  },
  "language_info": {
   "codemirror_mode": {
    "name": "ipython",
    "version": 3
   },
   "file_extension": ".py",
   "mimetype": "text/x-python",
   "name": "python",
   "nbconvert_exporter": "python",
   "pygments_lexer": "ipython3",
   "version": "3.11.9"
  }
 },
 "nbformat": 4,
 "nbformat_minor": 2
}
