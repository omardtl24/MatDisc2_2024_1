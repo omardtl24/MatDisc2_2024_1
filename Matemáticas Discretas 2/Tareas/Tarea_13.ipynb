{
 "cells": [
  {
   "cell_type": "markdown",
   "metadata": {},
   "source": [
    "**DESARROLLO TAREA 13 MATEMÁTICAS DISCRETAS 2 - 2024-1**\n",
    "\n",
    "**Profesor:** Arles Ernesto Rodríguez Portela\n",
    "\n",
    "**Estudiante:** Omar David Toledo Leguizamón"
   ]
  },
  {
   "cell_type": "markdown",
   "metadata": {},
   "source": [
    "# Tarea 13\n",
    "\n",
    "1. ¿Cuántos divisores tiene el número $2^{10}\\cdot 3^{15}\\cdot 5^{20}$\n",
    "\n",
    "2. Justifique porque $105=3 \\cdot 5 \\cdot 7$ divide a $1260=2^2\\cdot 3^2\\cdot 5\\cdot 7$\n",
    "\n",
    "3. Calcule el máximo común divisor de 1980 y 1848 si se sabe que $1980=22\\cdot 32\\cdot 5\\cdot 11$ y $1848=23\\cdot 3\\cdot 7\\cdot 11$\n",
    "\n",
    "4. ¿Cuántos ceros tiene $100!$? Ayuda: [Hallar número de ceros del factorial de un entero](https://www.youtube.com/watch?v=r4i9W445gkA)\n",
    "\n"
   ]
  },
  {
   "cell_type": "markdown",
   "metadata": {},
   "source": [
    "# Desarrollo"
   ]
  },
  {
   "cell_type": "markdown",
   "metadata": {},
   "source": [
    "### 1. ¿Cuántos divisores tiene el número $2^{10}\\cdot 3^{15}\\cdot 5^{20}$"
   ]
  },
  {
   "cell_type": "markdown",
   "metadata": {},
   "source": [
    "Para determinar cuantos divisores diferentes tiene el número descrito, vamos a aprovechar el hecho de que para un número escrito de la forma $p_{1}^{n_{1}}\\cdot p_{2}^{n_{2}} \\cdot ... \\cdot p_{k}^{n_{k}}$, su cantidad de divisores está descrita por la expresión:\n",
    "\n",
    "$$\\prod_{i=1}^{k} (n_{i}+1) = (n_1 + 1)(n_2 + 1)...(n_k+1)$$\n",
    "\n",
    "Para el caso del número $2^{10}\\cdot 3^{15}\\cdot 5^{20}$, su número de divisores está dado por la expresión:\n",
    "\n",
    "$$(10+1)(15+1)(20+1)= 11\\cdot 16 \\cdot 21 = 3696$$\n",
    "\n",
    "Por lo que podemos concluir que:\n",
    "\n",
    "$$\\therefore 2^{10}\\cdot 3^{15}\\cdot 5^{20} \\text{ tiene un total de } 3696 \\text{ divisores}$$"
   ]
  },
  {
   "cell_type": "markdown",
   "metadata": {},
   "source": [
    "### 2. Justifique porque $105=3 \\cdot 5 \\cdot 7$ divide a $1260=2^2\\cdot 3^2\\cdot 5\\cdot 7$"
   ]
  },
  {
   "cell_type": "markdown",
   "metadata": {},
   "source": [
    "Para justificar porque el número $105$ divide al número $1260$ vamos a aprovechar la definición de divisibilidad:\n",
    "\n",
    "$$b|a \\Longleftrightarrow \\exists_{q \\in \\mathbb{Z}} \\,\\, a = q \\cdot b$$\n",
    "\n",
    "Para el problema propuesto, vamos a encontrar un número entero que multiplicado con $105$ nos permita obtener el número $1260$. Para ello , vamos a apoyarnos en la descomposición en factores primos de los dos números:\n",
    "\n",
    "\\begin{array}{rcl}\n",
    "    1260 & = & 2^2\\cdot 3^2\\cdot 5\\cdot 7\\\\\n",
    "         & = &  2^2\\cdot 3 \\cdot (3 \\cdot 5\\cdot 7)\\\\\n",
    "         & = &  2^2\\cdot 3 \\cdot 105\\\\\n",
    "         & = &  12 \\cdot 105\\\\\n",
    "\\end{array}\n",
    "\n",
    "Dado que identificamos un número ($12$) que multiplicado con $105$ nos da como resultado $1260$, podemos concluir que:\n",
    "\n",
    "$$\\therefore 1260 = 105 \\cdot 12 \\,\\, \\Longrightarrow \\,\\, 105 | 1260$$"
   ]
  },
  {
   "cell_type": "markdown",
   "metadata": {},
   "source": [
    "### 3. Calcule el máximo común divisor de 1980 y 1848 si se sabe que $1980=2^2\\cdot 3^2\\cdot 5\\cdot 11$ y $1848=2^3\\cdot 3\\cdot 7\\cdot 11$"
   ]
  },
  {
   "cell_type": "markdown",
   "metadata": {},
   "source": [
    "Para identificar el máximo común divisor entre estos números, vamos a reescribirlos como potencias de los mismos factores primos, en el caso de que un número no tenag un factor primo en particular, se definirá que tiene exponente $0$.\n",
    "\n",
    "$$1980 = 2^2\\cdot 3^2 \\cdot 5^1 \\cdot 7^0 \\cdot 11^1$$\n",
    "$$1848 = 2^3\\cdot 3^1 \\cdot 5^0 \\cdot 7^1 \\cdot 11^1$$\n",
    "\n",
    "Finalmente, expresamos el máximo común divisor usando el mínimo de los exponentes para cada fadtor primo:\n",
    "\n",
    "\\begin{array}{rcl}\n",
    "    (1980,1848) &=& 2^{\\text{min}(2,3)} \\cdot 3^{\\text{min}(2,1)} \\cdot 5^{\\text{min}(1,0)} \\cdot 7^{\\text{min}(0,1)} \\cdot 11^{\\text{min}(1,1)} \\\\\n",
    "                &=& 2^2\\cdot 3^1 \\cdot 5^0 \\cdot 7^0 \\cdot 11^1 \\\\\n",
    "                &=& 2^2\\cdot 3^1 \\cdot 11^1 \\\\\n",
    "                &=& 4\\cdot 3 \\cdot 11 \\\\\n",
    "                &=& 132 \\\\\n",
    "\\end{array}\n",
    "\n",
    "Adicionalmente, podemos comprobar el resultado con el algoritmo de euclides:"
   ]
  },
  {
   "cell_type": "code",
   "execution_count": 5,
   "metadata": {},
   "outputs": [
    {
     "name": "stdout",
     "output_type": "stream",
     "text": [
      "El máximo común divisor entre 1980 y 1848 es igual a 132\n"
     ]
    }
   ],
   "source": [
    "def fast_gcd(a, b):\n",
    "  if b == 0:\n",
    "    return a\n",
    "  return fast_gcd(b, a % b)\n",
    "\n",
    "a = 1980\n",
    "b = 1848\n",
    "print(f'El máximo común divisor entre {a} y {b} es igual a {fast_gcd(a, b)}')"
   ]
  },
  {
   "cell_type": "markdown",
   "metadata": {},
   "source": [
    "### 4. ¿Cuántos ceros tiene $100!$?"
   ]
  },
  {
   "cell_type": "markdown",
   "metadata": {},
   "source": [
    "\n",
    "\n",
    "En este caso, nos centraremos en saber la cantidad de ceros que encontramos al final del número $100!$. Para ello aprovecharemos la cantidad de multiplos de potencias de 5 que pueden existir entre $0$ y $100$ tal y como se requiere para formar las parejas de $10^r = (2\\cdot 5)^r$. \n",
    "\n",
    "En este caso solo contareamos los cincos necesarios ya que son la restrcción planteada en el material de apoyo. La expresión que nos permite obtener la multiplicidad del $5$ para un valor $n!$ está descrita por:\n",
    "\n",
    "$$\\text{zeros}(n!) = \\sum_{i=1}^{\\left\\lfloor \\log_{5}n \\right\\rfloor} \\,\\, \\dfrac{n}{5^{i}}$$\n",
    "\n",
    "Si lo llevamos a nuestra pregunta de interés, debemos calcular el logaritmo en base 5 de 100 y al resultado de eso, obtener su parte entera para plantear la sumatoria.\n",
    "\n",
    "$$\\log_{5} 100 = 2.86135 \\,\\, \\Longrightarrow \\,\\, \\left\\lfloor \\log_{5}100 \\right\\rfloor = 2$$\n",
    "\n",
    "Procedemos a plantear la sumatoria de los términos requeridos:\n",
    "\n",
    "$$\\text{zeros}(100!) = \\sum_{i=1}^{2} \\,\\, \\dfrac{100}{5^{i}} = \\dfrac{100}{5} + \\dfrac{100}{25} = 20+4 = 24$$\n",
    "\n",
    "Adicionalmente, verificamos el valor del resultado por medio de un algoritmos que cuente los ceros a partir del resultado de $100!$\n"
   ]
  },
  {
   "cell_type": "code",
   "execution_count": 19,
   "metadata": {},
   "outputs": [
    {
     "name": "stdout",
     "output_type": "stream",
     "text": [
      "El número equivalente a 100! es 9.3326215443944150966e+157\n",
      "El número 100! termina con 24 ceros\n"
     ]
    }
   ],
   "source": [
    "def fact(n):\n",
    "    r=1\n",
    "    for i in range(2,n+1):\n",
    "        r*=i\n",
    "    return r\n",
    "\n",
    "def get_last_zeros(n):\n",
    "    string = str(n)\n",
    "    counter = 0\n",
    "    i = len(string)-1\n",
    "    while string[i]=='0':\n",
    "        counter+=1\n",
    "        i-=1\n",
    "    return counter\n",
    "\n",
    "cien_fact = fact(100)\n",
    "zeros = get_last_zeros(cien_fact)\n",
    "print(f'El número equivalente a 100! es {cien_fact:.20g}')\n",
    "print(f'El número 100! termina con {zeros} ceros')"
   ]
  },
  {
   "cell_type": "markdown",
   "metadata": {},
   "source": [
    "Con esto, podemos concluir que:\n",
    "\n",
    "$$\\therefore \\text{ El número }100!\\text{ termina con }24\\text{ ceros}$$"
   ]
  }
 ],
 "metadata": {
  "kernelspec": {
   "display_name": "Python 3",
   "language": "python",
   "name": "python3"
  },
  "language_info": {
   "codemirror_mode": {
    "name": "ipython",
    "version": 3
   },
   "file_extension": ".py",
   "mimetype": "text/x-python",
   "name": "python",
   "nbconvert_exporter": "python",
   "pygments_lexer": "ipython3",
   "version": "3.11.9"
  }
 },
 "nbformat": 4,
 "nbformat_minor": 2
}
