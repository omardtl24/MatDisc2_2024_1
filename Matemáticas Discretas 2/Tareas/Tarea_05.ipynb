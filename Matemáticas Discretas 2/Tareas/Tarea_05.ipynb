{
 "cells": [
  {
   "cell_type": "markdown",
   "metadata": {},
   "source": [
    "**DESARROLLO TAREA 5 MATEMÁTICAS DISCRETAS 2 - 2024-1**\n",
    "\n",
    "**Profesor:** Arles Ernesto Rodríguez Portela\n",
    "\n",
    "**Estudiante:** Omar David Toledo Leguizamón"
   ]
  },
  {
   "cell_type": "markdown",
   "metadata": {},
   "source": [
    "# Tarea 5\n",
    "\n",
    "0. Utilizando el algoritmo de Euclides, encuentre $x$,$y$ que satisfacen $(27,15)=27x+15y$\n",
    "\n",
    "1. En $(\\mathbb{Z}_{27},\\oplus)$,  encuentre $\\langle 18\\rangle$.\n",
    "\n",
    "2. En $(\\mathbb{Z}_{27},\\oplus)$, encuentre el orden de los elementos 3, 9 y 21.\n",
    "\n",
    "3. Liste los elementos de $(\\mathbb{Z}_{27},\\oplus)$, que tienen orden 9."
   ]
  },
  {
   "cell_type": "markdown",
   "metadata": {},
   "source": [
    "### Definición algoritmo de Euclides en Python"
   ]
  },
  {
   "cell_type": "code",
   "execution_count": 1,
   "metadata": {},
   "outputs": [],
   "source": [
    "def mcd(a,b,printing=False):\n",
    "    '''\n",
    "    Calcula el máximo común divisor entre a y b\n",
    "\n",
    "    Parámetros:\n",
    "\n",
    "        a (int) : Primer número de la pareja UPreferiblemente el mayor)\n",
    "        b (int) : Segundo número de la pareja (Preferiblemente el menor)\n",
    "        printing (bool) : Booleano para definir si se imprime el paso a \n",
    "                          paso del algoritmo\n",
    "\n",
    "    Retorna:\n",
    "\n",
    "        El máximo común divisor entre a y b\n",
    "    '''\n",
    "    #Definicion de valor absoluto para casos donde hayan negativos\n",
    "    if a<0 or b<0: return mcd(abs(a),abs(b),printing)\n",
    "\n",
    "    #Intercambia valores si a<b\n",
    "    if a<b: return mcd(b,a,printing)\n",
    "\n",
    "    #Retorna mcd (Condición de parada)\n",
    "    if b==0: return a\n",
    "\n",
    "    #Impresiones guía\n",
    "    if printing: print(f'{a} = {a//b} * {b} + {a%b}')\n",
    "\n",
    "    #Definición del algoritmo\n",
    "    #   m = q * n + r   --->  (m,n) = (n,r) \n",
    "    return mcd(b,a%b,printing)"
   ]
  },
  {
   "cell_type": "markdown",
   "metadata": {},
   "source": [
    "## Desarrollo"
   ]
  },
  {
   "cell_type": "markdown",
   "metadata": {},
   "source": [
    "\n",
    "\n",
    "### 0. Utilizando el algoritmo de Euclides, encuentre $x$,$y$ que satisfacen $(27,15)=27x+15y$\n",
    "\n"
   ]
  },
  {
   "cell_type": "code",
   "execution_count": 2,
   "metadata": {},
   "outputs": [
    {
     "name": "stdout",
     "output_type": "stream",
     "text": [
      "Algoritmo de Euclides entre 27 y 15\n",
      "\n",
      "27 = 1 * 15 + 12\n",
      "15 = 1 * 12 + 3\n",
      "12 = 4 * 3 + 0\n",
      "\n",
      "El máximo común divisor entre 27 y 15 es 3\n"
     ]
    }
   ],
   "source": [
    "a,b=27,15\n",
    "\n",
    "print(f'Algoritmo de Euclides entre {a} y {b}\\n')\n",
    "\n",
    "d = mcd(a,b,printing=True)\n",
    "\n",
    "print(f'\\nEl máximo común divisor entre {a} y {b} es {d}')"
   ]
  },
  {
   "cell_type": "markdown",
   "metadata": {},
   "source": [
    "Realizamos el proceso matemático para definir la combinación entre 27 y 15 que nos da de resultado 3. Adicionalmente, nos apoyaremos en los resultados intermedios de la aplicación del Algoritmo de Euclides:\n",
    "\n",
    "\\begin{array}{rcl}\n",
    "    3 & = & 15 - 1 \\cdot 12 \\\\\n",
    "      & =  & 15 - 1 \\cdot (27 - 1 \\cdot 15) \\\\\n",
    "      & =  & 2 \\cdot 15 - 1  \\cdot 27  \\\\\n",
    "\\end{array}\n",
    "\n",
    "Como pudimos evidenciar, la expresión $(27,15) = 27x + 15y$ es satisfecha por los enteros $x=-1$ y $y=2$\n",
    "\n",
    "$$\\therefore (27,15) = 27(-1) + 15(2) = 3 $$"
   ]
  },
  {
   "cell_type": "markdown",
   "metadata": {},
   "source": [
    "### 1. En $(\\mathbb{Z}_{27},\\oplus)$,  encuentre $\\langle 18\\rangle$.\n",
    "\n"
   ]
  },
  {
   "cell_type": "markdown",
   "metadata": {},
   "source": [
    "El objetivo es determinar todos los elementos que pueden ser escritos como potencias de $18$ a partir de la operación adición módulo 27.\n",
    "\n",
    "$$\\langle 18 \\rangle = \\{18n \\mod 27 : n \\in \\mathbb{Z} \\}$$\n",
    "\n",
    "Para simplificar el proceso, vamos a determinar la cantidad de elementos del conjunto a partir del orden del número $18$; y vamos a aprovechar su escritura en base del generador $1$ del grupo.\n",
    "\n",
    "$$|\\langle 18 \\rangle| = o(18)\\,\\, \\wedge \\,\\, o(1) = 27 \\,\\, \\wedge \\,\\, o(18) = o(1^{18}) = \\dfrac{o(1)}{(27,18)}\\,\\, \\Longrightarrow \\,\\, |\\langle 18 \\rangle| = \\dfrac{27}{(27,18)}$$"
   ]
  },
  {
   "cell_type": "code",
   "execution_count": 3,
   "metadata": {},
   "outputs": [
    {
     "name": "stdout",
     "output_type": "stream",
     "text": [
      "El máximo común divisor entre 27 and 18 es igual a 9\n"
     ]
    }
   ],
   "source": [
    "print(f'El máximo común divisor entre {27} and {18} es igual a {mcd(27,18)}')"
   ]
  },
  {
   "cell_type": "markdown",
   "metadata": {},
   "source": [
    "$$|\\langle 18 \\rangle| = \\dfrac{27}{9} = 3$$\n",
    "\n",
    "Ya que podemos denotar que el conjunto que buscamos solo dispone de 3 elementos, solo vamos a realizar la operación esa misma cantidad de veces para identificar los elementos del conjunto.\n",
    "\n",
    "\\begin{array}{rccccl}\n",
    "    18^{1} &=& 18 \\mod 27 &=& 18 \\mod 27 &=& 18 \\\\\n",
    "    18^{2} &=& 36 \\mod 27 &=& 9 \\mod 27 &=& 9 \\\\\n",
    "    18^{3} &=& 54 \\mod 27 &=& 0 \\mod 27 &=& 0 \\\\\n",
    "\\end{array}\n",
    "\n",
    "Podemos concluir que el conjunto que estamos buscando, es aquel que dispone de solo tres elementos y estos son $0$,$9$ y $18$\n",
    "\n",
    "$$\\therefore \\langle 18 \\rangle = \\{0,9,18\\}$$ "
   ]
  },
  {
   "cell_type": "markdown",
   "metadata": {},
   "source": [
    "### 2. En $(\\mathbb{Z}_{27},\\oplus)$, encuentre el orden de los elementos 3, 9 y 21."
   ]
  },
  {
   "cell_type": "markdown",
   "metadata": {},
   "source": [
    "Para encontrar el orden de estos elementos, vamos a aprovechar su escritura en base al generador $1$.\n",
    "\n",
    "$$o(1) = 27 \\,\\, \\wedge \\,\\, o(g) = n \\,\\, \\wedge \\,\\, o(g^m) = \\dfrac{n}{(n,m)} \\,\\, \\Longrightarrow \\,\\, o(1^{m}) = \\dfrac{27}{(27,m)}$$"
   ]
  },
  {
   "cell_type": "code",
   "execution_count": 4,
   "metadata": {},
   "outputs": [
    {
     "name": "stdout",
     "output_type": "stream",
     "text": [
      "El máximo común divisor entre 27 y 3 es igual a 3\n",
      "El máximo común divisor entre 27 y 9 es igual a 9\n",
      "El máximo común divisor entre 27 y 21 es igual a 3\n"
     ]
    }
   ],
   "source": [
    "print(f'El máximo común divisor entre {27} y {3} es igual a {mcd(27,3)}')\n",
    "print(f'El máximo común divisor entre {27} y {9} es igual a {mcd(27,9)}')\n",
    "print(f'El máximo común divisor entre {27} y {21} es igual a {mcd(27,21)}')"
   ]
  },
  {
   "cell_type": "markdown",
   "metadata": {},
   "source": [
    "Reescribiremos el orden de los tres elementos en base a la fórmula ya descrita.\n",
    "\n",
    "\\begin{array}{rccccccl}\n",
    "    o(3) &=& o(1^{3}) &=&  \\dfrac{27}{(27,3)} &=& \\dfrac{27}{3}&=&  9 \\\\ \\\\\n",
    "    o(9) &=& o(1^{9}) &=&  \\dfrac{27}{(27,9)} &=& \\dfrac{27}{9} &=&  3 \\\\ \\\\\n",
    "    o(21) &=& o(1^{21}) &=&  \\dfrac{27}{(27,21)} &=& \\dfrac{27}{3} &=&  9\n",
    "\\end{array}\n",
    "\n",
    "Finalmente:\n",
    "\n",
    "\n",
    "$$\\therefore \\begin{array}{rcl} o(3) &=& 9 \\\\  o(9) &=& 3 \\\\ o(21) &=& 9 \\\\ \\end{array}$$"
   ]
  },
  {
   "cell_type": "markdown",
   "metadata": {},
   "source": [
    "### 3. Liste los elementos de $(\\mathbb{Z}_{27},\\oplus)$, que tienen orden 9."
   ]
  },
  {
   "cell_type": "markdown",
   "metadata": {},
   "source": [
    "Para poder determinar aquellos elementos que tienen orden $9$, vamos a aprovechar nuevamente la escritura en base del generador $1$ y como podemos expresar nuestro orden en términos del máximo común divisor.\n",
    "\n",
    "$$o(1) = 27 \\,\\, \\wedge \\,\\, o(g) = n \\,\\, \\wedge \\,\\, o(g^m) = \\dfrac{n}{(n,m)} \\,\\, \\Longrightarrow \\,\\, o(1^{m}) = \\dfrac{27}{(27,m)}$$\n",
    "\n",
    "Si definimos que el orden de nuestro elemento $m$ es igual a $9$, podemos reeescribir nuestra expresión de la siguiente forma:\n",
    "\n",
    "$$\n",
    " o(m) = 9 \\,\\, \\wedge \\,\\, o(1^{m}) = \\dfrac{27}{(27,m)} \\,\\, \\Longrightarrow \\,\\,\n",
    " \\begin{array}{rcl}\n",
    "   o(1^{m}) &=& o(m) \\\\\n",
    "   \\frac{27}{(27,m)} &=& 9 \\\\\n",
    "   (27,m) &=& \\frac{27}{9} \\\\\n",
    "   (27,m) &=& 3\n",
    " \\end{array}\n",
    "$$\n",
    "\n",
    "Podemos denotar que aquellos números que cumplen nuestra condición, son todos aquellos que pertenecen a $\\mathbb{Z}_{27}$ tal que su máximo divisor con 27 debe ser 3. Vamos aprovechar está relación para obtener los valores adecuados."
   ]
  },
  {
   "cell_type": "code",
   "execution_count": 5,
   "metadata": {},
   "outputs": [
    {
     "name": "stdout",
     "output_type": "stream",
     "text": [
      "Los valores de m en Z_27 que cumplen (27,m)=3 son: {3, 6, 12, 15, 21, 24}\n"
     ]
    }
   ],
   "source": [
    "#Se define el conjunto z_27\n",
    "z_27 = {i for i in range(27)}\n",
    "\n",
    "#Se define una lista para guardar los m valores que cumplen (27,m)=3\n",
    "interest_values = {i for i in z_27 if mcd(27,i)==3}\n",
    "\n",
    "print(f'Los valores de m en Z_27 que cumplen (27,m)=3 son: {interest_values}')"
   ]
  },
  {
   "cell_type": "markdown",
   "metadata": {},
   "source": [
    "Dado que necesitamos la relación $(27,m)=3$, podemos realizar un análisis sencillo partiendo de expresar el 27 como un producto de factores primos.\n",
    "\n",
    "$$27=3^{3} \\Longrightarrow 27=3 \\cdot 9$$\n",
    "\n",
    "Dado que $(27,m) = 3$, podemos denotar que nuestro valor m debe ser claramente divisible por $3$ y no debe ser divisible por los otros factores primos de $27$.\n",
    "\n",
    "$$27 = 3 \\cdot 9 \\,\\, \\wedge \\,\\, (27,m)=3 \\Longrightarrow 3 \\mid m \\,\\, \\wedge \\,\\, 9 \\nmid m$$\n",
    "\n",
    "A partir de esta relación podemos darnos cuenta que los resultados que nos interesan son aquellos múltiplos de $3$ que **NO** son múltiplos de $9$\n",
    "\n",
    "$$3 \\mid m \\,\\, \\wedge \\,\\, 9 \\nmid m \\Longrightarrow m = 3k \\,\\, \\wedge \\,\\, m \\neq 9k' \\,\\, k, k' \\in \\mathbb{Z}$$\n",
    "\n",
    "Podemos expresar este conjunto $G'$ de la siguiente forma:\n",
    "\n",
    "$$G' = \\{m \\in \\mathbb{Z}_{27}\\ : 3 \\mid m \\,\\, \\wedge 9 \\nmid m \\} = \\{3,6,12,15,21,24\\}$$\n",
    "\n",
    "Finalmente:\n",
    "\n",
    "$$\\therefore \\forall_{x \\in \\{3,6,12,15,21,24\\}} \\,\\,\\, o(x) = 9$$"
   ]
  }
 ],
 "metadata": {
  "kernelspec": {
   "display_name": "Python 3 (ipykernel)",
   "language": "python",
   "name": "python3"
  },
  "language_info": {
   "codemirror_mode": {
    "name": "ipython",
    "version": 3
   },
   "file_extension": ".py",
   "mimetype": "text/x-python",
   "name": "python",
   "nbconvert_exporter": "python",
   "pygments_lexer": "ipython3",
   "version": "3.10.11"
  }
 },
 "nbformat": 4,
 "nbformat_minor": 2
}
